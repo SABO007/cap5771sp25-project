{
  "cells": [
    {
      "cell_type": "markdown",
      "metadata": {},
      "source": [
        "### 1. Loading the Data"
      ]
    },
    {
      "cell_type": "code",
      "execution_count": 1,
      "metadata": {},
      "outputs": [],
      "source": [
        "import pandas as pd\n",
        "import numpy as np\n",
        "from sklearn.preprocessing import LabelEncoder, OneHotEncoder\n",
        "import matplotlib.pyplot as plt\n",
        "import seaborn as sns"
      ]
    },
    {
      "cell_type": "code",
      "execution_count": null,
      "metadata": {},
      "outputs": [],
      "source": [
        "student_course_data = pd.read_csv('../Data/student_course_3000.csv')"
      ]
    },
    {
      "cell_type": "code",
      "execution_count": null,
      "metadata": {},
      "outputs": [
        {
          "name": "stdout",
          "output_type": "stream",
          "text": [
            "<class 'pandas.core.frame.DataFrame'>\n",
            "RangeIndex: 3010 entries, 0 to 3009\n",
            "Data columns (total 17 columns):\n",
            " #   Column                 Non-Null Count  Dtype  \n",
            "---  ------                 --------------  -----  \n",
            " 0   student_id             3010 non-null   int64  \n",
            " 1   course_id              3010 non-null   object \n",
            " 2   similarity_score       3010 non-null   float64\n",
            " 3   Branch                 3010 non-null   object \n",
            " 4   Percentage_10th        3010 non-null   int64  \n",
            " 5   Percentage_12th        3010 non-null   int64  \n",
            " 6   Skills_x               1960 non-null   object \n",
            " 7   Career_Goal            3010 non-null   object \n",
            " 8   StudentId              3010 non-null   int64  \n",
            " 9   skills_processed_x     1960 non-null   object \n",
            " 10  career_goal_processed  3010 non-null   object \n",
            " 11  Title                  3010 non-null   object \n",
            " 12  Category               3010 non-null   object \n",
            " 13  Course Type            3010 non-null   object \n",
            " 14  Skills_y               3010 non-null   object \n",
            " 15  skills_processed_y     3010 non-null   object \n",
            " 16  category_processed     3010 non-null   object \n",
            "dtypes: float64(1), int64(4), object(12)\n",
            "memory usage: 399.9+ KB\n",
            "None\n"
          ]
        }
      ],
      "source": [
        "print(student_course_data.info())"
      ]
    },
    {
      "cell_type": "code",
      "execution_count": null,
      "metadata": {},
      "outputs": [
        {
          "name": "stdout",
          "output_type": "stream",
          "text": [
            "Student Course Data:\n"
          ]
        },
        {
          "data": {
            "text/html": [
              "<div>\n",
              "<style scoped>\n",
              "    .dataframe tbody tr th:only-of-type {\n",
              "        vertical-align: middle;\n",
              "    }\n",
              "\n",
              "    .dataframe tbody tr th {\n",
              "        vertical-align: top;\n",
              "    }\n",
              "\n",
              "    .dataframe thead th {\n",
              "        text-align: right;\n",
              "    }\n",
              "</style>\n",
              "<table border=\"1\" class=\"dataframe\">\n",
              "  <thead>\n",
              "    <tr style=\"text-align: right;\">\n",
              "      <th></th>\n",
              "      <th>student_id</th>\n",
              "      <th>course_id</th>\n",
              "      <th>similarity_score</th>\n",
              "      <th>Branch</th>\n",
              "      <th>Percentage_10th</th>\n",
              "      <th>Percentage_12th</th>\n",
              "      <th>Skills_x</th>\n",
              "      <th>Career_Goal</th>\n",
              "      <th>StudentId</th>\n",
              "      <th>skills_processed_x</th>\n",
              "      <th>career_goal_processed</th>\n",
              "      <th>Title</th>\n",
              "      <th>Category</th>\n",
              "      <th>Course Type</th>\n",
              "      <th>Skills_y</th>\n",
              "      <th>skills_processed_y</th>\n",
              "      <th>category_processed</th>\n",
              "    </tr>\n",
              "  </thead>\n",
              "  <tbody>\n",
              "    <tr>\n",
              "      <th>0</th>\n",
              "      <td>83</td>\n",
              "      <td>google_data_analytics_capstone_complete_a_case...</td>\n",
              "      <td>0.198736</td>\n",
              "      <td>MCA</td>\n",
              "      <td>75</td>\n",
              "      <td>65</td>\n",
              "      <td>HTML, CSS, JavaScript, React, Node.js, Angular...</td>\n",
              "      <td>Web Developer</td>\n",
              "      <td>83</td>\n",
              "      <td>html css javascript react nodejs angular apis ...</td>\n",
              "      <td>web developer</td>\n",
              "      <td>Google Data Analytics Capstone: Complete a Cas...</td>\n",
              "      <td>Data Science</td>\n",
              "      <td>Course</td>\n",
              "      <td>Job portfolio,Data Cleansing,Data Analysis,Dat...</td>\n",
              "      <td>job portfoliodata cleansingdata analysisdata v...</td>\n",
              "      <td>data science</td>\n",
              "    </tr>\n",
              "    <tr>\n",
              "      <th>1</th>\n",
              "      <td>17</td>\n",
              "      <td>1mindfulness_in_integrative_healthcare</td>\n",
              "      <td>0.198479</td>\n",
              "      <td>CSIT</td>\n",
              "      <td>85</td>\n",
              "      <td>75</td>\n",
              "      <td>HTML, CSS, JavaScript, React, Node.js, Angular...</td>\n",
              "      <td>Web Developer</td>\n",
              "      <td>17</td>\n",
              "      <td>html css javascript react nodejs angular apis ...</td>\n",
              "      <td>web developer</td>\n",
              "      <td>Mindfulness in Integrative Healthcare</td>\n",
              "      <td>Health</td>\n",
              "      <td>Course</td>\n",
              "      <td>wellbeing,improved symptom management,whole-pe...</td>\n",
              "      <td>wellbeingimproved symptom managementwholeperso...</td>\n",
              "      <td>health</td>\n",
              "    </tr>\n",
              "    <tr>\n",
              "      <th>2</th>\n",
              "      <td>83</td>\n",
              "      <td>web_design_for_everybody_basics_of_web_develop...</td>\n",
              "      <td>0.411329</td>\n",
              "      <td>MCA</td>\n",
              "      <td>75</td>\n",
              "      <td>65</td>\n",
              "      <td>HTML, CSS, JavaScript, React, Node.js, Angular...</td>\n",
              "      <td>Web Developer</td>\n",
              "      <td>83</td>\n",
              "      <td>html css javascript react nodejs angular apis ...</td>\n",
              "      <td>web developer</td>\n",
              "      <td>Web Design for Everybody: Basics of Web Develo...</td>\n",
              "      <td>Computer Science</td>\n",
              "      <td>Specialization</td>\n",
              "      <td>Web Development, Cascading Style Sheets (CSS),...</td>\n",
              "      <td>web development cascading style sheets css htm...</td>\n",
              "      <td>computer science</td>\n",
              "    </tr>\n",
              "    <tr>\n",
              "      <th>3</th>\n",
              "      <td>2</td>\n",
              "      <td>ethical_issues_in_data_science</td>\n",
              "      <td>0.613531</td>\n",
              "      <td>CSIT</td>\n",
              "      <td>85</td>\n",
              "      <td>95</td>\n",
              "      <td>Python, R, Data Analysis, Machine Learning, SQ...</td>\n",
              "      <td>Data Scientist</td>\n",
              "      <td>2</td>\n",
              "      <td>python r data analysis machine learning sql da...</td>\n",
              "      <td>data scientist</td>\n",
              "      <td>Ethical Issues in Data Science</td>\n",
              "      <td>Data Science</td>\n",
              "      <td>Course</td>\n",
              "      <td>Data Science,Ethics,Algorithms,Privacy,Philoso...</td>\n",
              "      <td>data scienceethicsalgorithmsprivacyphilosophy</td>\n",
              "      <td>data science</td>\n",
              "    </tr>\n",
              "    <tr>\n",
              "      <th>4</th>\n",
              "      <td>40</td>\n",
              "      <td>introduction_to_programming_with_python_and_ja...</td>\n",
              "      <td>0.219441</td>\n",
              "      <td>CSME</td>\n",
              "      <td>85</td>\n",
              "      <td>75</td>\n",
              "      <td>Automation Systems, PLC Programming, Control S...</td>\n",
              "      <td>Automation Engineer</td>\n",
              "      <td>40</td>\n",
              "      <td>automation systems plc programming control sys...</td>\n",
              "      <td>automation engineer</td>\n",
              "      <td>Introduction to Programming with Python and Ja...</td>\n",
              "      <td>Computer Science</td>\n",
              "      <td>Specialization</td>\n",
              "      <td>Programming Principles, Python Programming, Ja...</td>\n",
              "      <td>programming principles python programming java...</td>\n",
              "      <td>computer science</td>\n",
              "    </tr>\n",
              "  </tbody>\n",
              "</table>\n",
              "</div>"
            ],
            "text/plain": [
              "   student_id                                          course_id  \\\n",
              "0          83  google_data_analytics_capstone_complete_a_case...   \n",
              "1          17             1mindfulness_in_integrative_healthcare   \n",
              "2          83  web_design_for_everybody_basics_of_web_develop...   \n",
              "3           2                     ethical_issues_in_data_science   \n",
              "4          40  introduction_to_programming_with_python_and_ja...   \n",
              "\n",
              "   similarity_score Branch  Percentage_10th  Percentage_12th  \\\n",
              "0          0.198736    MCA               75               65   \n",
              "1          0.198479   CSIT               85               75   \n",
              "2          0.411329    MCA               75               65   \n",
              "3          0.613531   CSIT               85               95   \n",
              "4          0.219441   CSME               85               75   \n",
              "\n",
              "                                            Skills_x          Career_Goal  \\\n",
              "0  HTML, CSS, JavaScript, React, Node.js, Angular...        Web Developer   \n",
              "1  HTML, CSS, JavaScript, React, Node.js, Angular...        Web Developer   \n",
              "2  HTML, CSS, JavaScript, React, Node.js, Angular...        Web Developer   \n",
              "3  Python, R, Data Analysis, Machine Learning, SQ...       Data Scientist   \n",
              "4  Automation Systems, PLC Programming, Control S...  Automation Engineer   \n",
              "\n",
              "   StudentId                                 skills_processed_x  \\\n",
              "0         83  html css javascript react nodejs angular apis ...   \n",
              "1         17  html css javascript react nodejs angular apis ...   \n",
              "2         83  html css javascript react nodejs angular apis ...   \n",
              "3          2  python r data analysis machine learning sql da...   \n",
              "4         40  automation systems plc programming control sys...   \n",
              "\n",
              "  career_goal_processed                                              Title  \\\n",
              "0         web developer  Google Data Analytics Capstone: Complete a Cas...   \n",
              "1         web developer              Mindfulness in Integrative Healthcare   \n",
              "2         web developer  Web Design for Everybody: Basics of Web Develo...   \n",
              "3        data scientist                     Ethical Issues in Data Science   \n",
              "4   automation engineer  Introduction to Programming with Python and Ja...   \n",
              "\n",
              "           Category     Course Type  \\\n",
              "0      Data Science          Course   \n",
              "1            Health          Course   \n",
              "2  Computer Science  Specialization   \n",
              "3      Data Science          Course   \n",
              "4  Computer Science  Specialization   \n",
              "\n",
              "                                            Skills_y  \\\n",
              "0  Job portfolio,Data Cleansing,Data Analysis,Dat...   \n",
              "1  wellbeing,improved symptom management,whole-pe...   \n",
              "2  Web Development, Cascading Style Sheets (CSS),...   \n",
              "3  Data Science,Ethics,Algorithms,Privacy,Philoso...   \n",
              "4  Programming Principles, Python Programming, Ja...   \n",
              "\n",
              "                                  skills_processed_y category_processed  \n",
              "0  job portfoliodata cleansingdata analysisdata v...       data science  \n",
              "1  wellbeingimproved symptom managementwholeperso...             health  \n",
              "2  web development cascading style sheets css htm...   computer science  \n",
              "3      data scienceethicsalgorithmsprivacyphilosophy       data science  \n",
              "4  programming principles python programming java...   computer science  "
            ]
          },
          "metadata": {},
          "output_type": "display_data"
        }
      ],
      "source": [
        "print(\"Student Course Data:\")\n",
        "display(student_course_data.head())"
      ]
    },
    {
      "cell_type": "markdown",
      "metadata": {},
      "source": [
        "#### Preprocessing"
      ]
    },
    {
      "cell_type": "code",
      "execution_count": null,
      "metadata": {},
      "outputs": [
        {
          "data": {
            "text/plain": [
              "Index(['student_id', 'course_id', 'similarity_score', 'Branch',\n",
              "       'Percentage_10th', 'Percentage_12th', 'Skills_x', 'Career_Goal',\n",
              "       'StudentId', 'skills_processed_x', 'career_goal_processed', 'Title',\n",
              "       'Category', 'Course Type', 'Skills_y', 'skills_processed_y',\n",
              "       'category_processed'],\n",
              "      dtype='object')"
            ]
          },
          "execution_count": 159,
          "metadata": {},
          "output_type": "execute_result"
        }
      ],
      "source": [
        "student_course_data.columns"
      ]
    },
    {
      "cell_type": "code",
      "execution_count": null,
      "metadata": {},
      "outputs": [],
      "source": [
        "student_course_data.drop(['student_id', 'course_id', 'similarity_score', 'skills_processed_x', 'Skills_x', 'Career_Goal', 'Skills_y', 'StudentId', 'category_processed'], axis=1, inplace=True)"
      ]
    },
    {
      "cell_type": "code",
      "execution_count": null,
      "metadata": {},
      "outputs": [],
      "source": [
        "student_course_data['Skills'] = student_course_data['skills_processed_y']\n",
        "student_course_data.drop(['skills_processed_y'], axis=1, inplace=True)\n",
        "\n",
        "student_course_data['Career_Goal'] = student_course_data['career_goal_processed']\n",
        "student_course_data.drop(['career_goal_processed'], axis=1, inplace=True)"
      ]
    },
    {
      "cell_type": "code",
      "execution_count": null,
      "metadata": {},
      "outputs": [
        {
          "data": {
            "text/plain": [
              "Index(['Branch', 'Percentage_10th', 'Percentage_12th', 'Title', 'Category',\n",
              "       'Course Type', 'Skills', 'Career_Goal'],\n",
              "      dtype='object')"
            ]
          },
          "execution_count": 162,
          "metadata": {},
          "output_type": "execute_result"
        }
      ],
      "source": [
        "student_course_data.columns"
      ]
    },
    {
      "cell_type": "code",
      "execution_count": null,
      "metadata": {},
      "outputs": [],
      "source": [
        "student_course_data = student_course_data[['Branch', 'Percentage_10th', 'Percentage_12th', 'Career_Goal',  'Course Type', 'Skills', 'Category', 'Title']]"
      ]
    },
    {
      "cell_type": "code",
      "execution_count": null,
      "metadata": {},
      "outputs": [
        {
          "data": {
            "text/plain": [
              "Branch             0\n",
              "Percentage_10th    0\n",
              "Percentage_12th    0\n",
              "Career_Goal        0\n",
              "Course Type        0\n",
              "Skills             0\n",
              "Category           0\n",
              "Title              0\n",
              "dtype: int64"
            ]
          },
          "execution_count": 164,
          "metadata": {},
          "output_type": "execute_result"
        }
      ],
      "source": [
        "student_course_data.isnull().sum()"
      ]
    },
    {
      "cell_type": "code",
      "execution_count": null,
      "metadata": {},
      "outputs": [],
      "source": [
        "student_course_data.dropna(inplace=True)"
      ]
    },
    {
      "cell_type": "code",
      "execution_count": null,
      "metadata": {},
      "outputs": [
        {
          "data": {
            "text/html": [
              "<div>\n",
              "<style scoped>\n",
              "    .dataframe tbody tr th:only-of-type {\n",
              "        vertical-align: middle;\n",
              "    }\n",
              "\n",
              "    .dataframe tbody tr th {\n",
              "        vertical-align: top;\n",
              "    }\n",
              "\n",
              "    .dataframe thead th {\n",
              "        text-align: right;\n",
              "    }\n",
              "</style>\n",
              "<table border=\"1\" class=\"dataframe\">\n",
              "  <thead>\n",
              "    <tr style=\"text-align: right;\">\n",
              "      <th></th>\n",
              "      <th>Branch</th>\n",
              "      <th>Percentage_10th</th>\n",
              "      <th>Percentage_12th</th>\n",
              "      <th>Career_Goal</th>\n",
              "      <th>Course Type</th>\n",
              "      <th>Skills</th>\n",
              "      <th>Category</th>\n",
              "      <th>Title</th>\n",
              "    </tr>\n",
              "  </thead>\n",
              "  <tbody>\n",
              "    <tr>\n",
              "      <th>0</th>\n",
              "      <td>MCA</td>\n",
              "      <td>75</td>\n",
              "      <td>65</td>\n",
              "      <td>web developer</td>\n",
              "      <td>Course</td>\n",
              "      <td>job portfoliodata cleansingdata analysisdata v...</td>\n",
              "      <td>Data Science</td>\n",
              "      <td>Google Data Analytics Capstone: Complete a Cas...</td>\n",
              "    </tr>\n",
              "    <tr>\n",
              "      <th>1</th>\n",
              "      <td>CSIT</td>\n",
              "      <td>85</td>\n",
              "      <td>75</td>\n",
              "      <td>web developer</td>\n",
              "      <td>Course</td>\n",
              "      <td>wellbeingimproved symptom managementwholeperso...</td>\n",
              "      <td>Health</td>\n",
              "      <td>Mindfulness in Integrative Healthcare</td>\n",
              "    </tr>\n",
              "    <tr>\n",
              "      <th>2</th>\n",
              "      <td>MCA</td>\n",
              "      <td>75</td>\n",
              "      <td>65</td>\n",
              "      <td>web developer</td>\n",
              "      <td>Specialization</td>\n",
              "      <td>web development cascading style sheets css htm...</td>\n",
              "      <td>Computer Science</td>\n",
              "      <td>Web Design for Everybody: Basics of Web Develo...</td>\n",
              "    </tr>\n",
              "    <tr>\n",
              "      <th>3</th>\n",
              "      <td>CSIT</td>\n",
              "      <td>85</td>\n",
              "      <td>95</td>\n",
              "      <td>data scientist</td>\n",
              "      <td>Course</td>\n",
              "      <td>data scienceethicsalgorithmsprivacyphilosophy</td>\n",
              "      <td>Data Science</td>\n",
              "      <td>Ethical Issues in Data Science</td>\n",
              "    </tr>\n",
              "    <tr>\n",
              "      <th>4</th>\n",
              "      <td>CSME</td>\n",
              "      <td>85</td>\n",
              "      <td>75</td>\n",
              "      <td>automation engineer</td>\n",
              "      <td>Specialization</td>\n",
              "      <td>programming principles python programming java...</td>\n",
              "      <td>Computer Science</td>\n",
              "      <td>Introduction to Programming with Python and Ja...</td>\n",
              "    </tr>\n",
              "  </tbody>\n",
              "</table>\n",
              "</div>"
            ],
            "text/plain": [
              "  Branch  Percentage_10th  Percentage_12th          Career_Goal  \\\n",
              "0    MCA               75               65        web developer   \n",
              "1   CSIT               85               75        web developer   \n",
              "2    MCA               75               65        web developer   \n",
              "3   CSIT               85               95       data scientist   \n",
              "4   CSME               85               75  automation engineer   \n",
              "\n",
              "      Course Type                                             Skills  \\\n",
              "0          Course  job portfoliodata cleansingdata analysisdata v...   \n",
              "1          Course  wellbeingimproved symptom managementwholeperso...   \n",
              "2  Specialization  web development cascading style sheets css htm...   \n",
              "3          Course      data scienceethicsalgorithmsprivacyphilosophy   \n",
              "4  Specialization  programming principles python programming java...   \n",
              "\n",
              "           Category                                              Title  \n",
              "0      Data Science  Google Data Analytics Capstone: Complete a Cas...  \n",
              "1            Health              Mindfulness in Integrative Healthcare  \n",
              "2  Computer Science  Web Design for Everybody: Basics of Web Develo...  \n",
              "3      Data Science                     Ethical Issues in Data Science  \n",
              "4  Computer Science  Introduction to Programming with Python and Ja...  "
            ]
          },
          "execution_count": 166,
          "metadata": {},
          "output_type": "execute_result"
        }
      ],
      "source": [
        "student_course_data.head()"
      ]
    },
    {
      "cell_type": "code",
      "execution_count": null,
      "metadata": {},
      "outputs": [],
      "source": [
        "student_course_data.to_csv('../Data/final_student_course.csv', index=False)"
      ]
    },
    {
      "cell_type": "markdown",
      "metadata": {},
      "source": [
        "### 2. Feature Engineering"
      ]
    },
    {
      "cell_type": "code",
      "execution_count": 58,
      "metadata": {},
      "outputs": [],
      "source": [
        "import pandas as pd\n",
        "import numpy as np\n",
        "import matplotlib.pyplot as plt\n",
        "import seaborn as sns\n",
        "from sklearn.preprocessing import LabelEncoder, OneHotEncoder, StandardScaler\n",
        "from sklearn.model_selection import train_test_split, cross_val_score\n",
        "from sklearn.feature_selection import SelectKBest, chi2, mutual_info_classif\n",
        "from sklearn.linear_model import LogisticRegression\n",
        "from sklearn.tree import DecisionTreeClassifier\n",
        "from sklearn.ensemble import RandomForestClassifier\n",
        "from sklearn.svm import SVC\n",
        "from sklearn.metrics import accuracy_score, precision_score, recall_score, f1_score, confusion_matrix, classification_report, roc_curve, auc\n",
        "import warnings\n",
        "warnings.filterwarnings('ignore')"
      ]
    },
    {
      "cell_type": "code",
      "execution_count": 59,
      "metadata": {},
      "outputs": [],
      "source": [
        "data = pd.read_csv('../Data/final_student_course.csv')"
      ]
    },
    {
      "cell_type": "code",
      "execution_count": 60,
      "metadata": {},
      "outputs": [
        {
          "data": {
            "text/html": [
              "<div>\n",
              "<style scoped>\n",
              "    .dataframe tbody tr th:only-of-type {\n",
              "        vertical-align: middle;\n",
              "    }\n",
              "\n",
              "    .dataframe tbody tr th {\n",
              "        vertical-align: top;\n",
              "    }\n",
              "\n",
              "    .dataframe thead th {\n",
              "        text-align: right;\n",
              "    }\n",
              "</style>\n",
              "<table border=\"1\" class=\"dataframe\">\n",
              "  <thead>\n",
              "    <tr style=\"text-align: right;\">\n",
              "      <th></th>\n",
              "      <th>Branch</th>\n",
              "      <th>Percentage_10th</th>\n",
              "      <th>Percentage_12th</th>\n",
              "      <th>Career_Goal</th>\n",
              "      <th>Course Type</th>\n",
              "      <th>Skills</th>\n",
              "      <th>Category</th>\n",
              "      <th>Title</th>\n",
              "    </tr>\n",
              "  </thead>\n",
              "  <tbody>\n",
              "    <tr>\n",
              "      <th>0</th>\n",
              "      <td>MCA</td>\n",
              "      <td>75</td>\n",
              "      <td>65</td>\n",
              "      <td>web developer</td>\n",
              "      <td>Course</td>\n",
              "      <td>job portfoliodata cleansingdata analysisdata v...</td>\n",
              "      <td>Data Science</td>\n",
              "      <td>Google Data Analytics Capstone: Complete a Cas...</td>\n",
              "    </tr>\n",
              "    <tr>\n",
              "      <th>1</th>\n",
              "      <td>CSIT</td>\n",
              "      <td>85</td>\n",
              "      <td>75</td>\n",
              "      <td>web developer</td>\n",
              "      <td>Course</td>\n",
              "      <td>wellbeingimproved symptom managementwholeperso...</td>\n",
              "      <td>Health</td>\n",
              "      <td>Mindfulness in Integrative Healthcare</td>\n",
              "    </tr>\n",
              "    <tr>\n",
              "      <th>2</th>\n",
              "      <td>MCA</td>\n",
              "      <td>75</td>\n",
              "      <td>65</td>\n",
              "      <td>web developer</td>\n",
              "      <td>Specialization</td>\n",
              "      <td>web development cascading style sheets css htm...</td>\n",
              "      <td>Computer Science</td>\n",
              "      <td>Web Design for Everybody: Basics of Web Develo...</td>\n",
              "    </tr>\n",
              "    <tr>\n",
              "      <th>3</th>\n",
              "      <td>CSIT</td>\n",
              "      <td>85</td>\n",
              "      <td>95</td>\n",
              "      <td>data scientist</td>\n",
              "      <td>Course</td>\n",
              "      <td>data scienceethicsalgorithmsprivacyphilosophy</td>\n",
              "      <td>Data Science</td>\n",
              "      <td>Ethical Issues in Data Science</td>\n",
              "    </tr>\n",
              "    <tr>\n",
              "      <th>4</th>\n",
              "      <td>CSME</td>\n",
              "      <td>85</td>\n",
              "      <td>75</td>\n",
              "      <td>automation engineer</td>\n",
              "      <td>Specialization</td>\n",
              "      <td>programming principles python programming java...</td>\n",
              "      <td>Computer Science</td>\n",
              "      <td>Introduction to Programming with Python and Ja...</td>\n",
              "    </tr>\n",
              "  </tbody>\n",
              "</table>\n",
              "</div>"
            ],
            "text/plain": [
              "  Branch  Percentage_10th  Percentage_12th          Career_Goal  \\\n",
              "0    MCA               75               65        web developer   \n",
              "1   CSIT               85               75        web developer   \n",
              "2    MCA               75               65        web developer   \n",
              "3   CSIT               85               95       data scientist   \n",
              "4   CSME               85               75  automation engineer   \n",
              "\n",
              "      Course Type                                             Skills  \\\n",
              "0          Course  job portfoliodata cleansingdata analysisdata v...   \n",
              "1          Course  wellbeingimproved symptom managementwholeperso...   \n",
              "2  Specialization  web development cascading style sheets css htm...   \n",
              "3          Course      data scienceethicsalgorithmsprivacyphilosophy   \n",
              "4  Specialization  programming principles python programming java...   \n",
              "\n",
              "           Category                                              Title  \n",
              "0      Data Science  Google Data Analytics Capstone: Complete a Cas...  \n",
              "1            Health              Mindfulness in Integrative Healthcare  \n",
              "2  Computer Science  Web Design for Everybody: Basics of Web Develo...  \n",
              "3      Data Science                     Ethical Issues in Data Science  \n",
              "4  Computer Science  Introduction to Programming with Python and Ja...  "
            ]
          },
          "execution_count": 60,
          "metadata": {},
          "output_type": "execute_result"
        }
      ],
      "source": [
        "data.head()"
      ]
    },
    {
      "cell_type": "code",
      "execution_count": 61,
      "metadata": {},
      "outputs": [
        {
          "name": "stdout",
          "output_type": "stream",
          "text": [
            "Original Dataset:\n",
            "  Branch  Percentage_10th  Percentage_12th     Course Type  \\\n",
            "0    MCA               75               65          Course   \n",
            "1   CSIT               85               75          Course   \n",
            "2    MCA               75               65  Specialization   \n",
            "3   CSIT               85               95          Course   \n",
            "4   CSME               85               75  Specialization   \n",
            "\n",
            "                                              Skills          Category  \n",
            "0  job portfoliodata cleansingdata analysisdata v...      Data Science  \n",
            "1  wellbeingimproved symptom managementwholeperso...            Health  \n",
            "2  web development cascading style sheets css htm...  Computer Science  \n",
            "3      data scienceethicsalgorithmsprivacyphilosophy      Data Science  \n",
            "4  programming principles python programming java...  Computer Science  \n",
            "\n",
            "Basic Information:\n",
            "Branch             object\n",
            "Percentage_10th     int64\n",
            "Percentage_12th     int64\n",
            "Course Type        object\n",
            "Skills             object\n",
            "Category           object\n",
            "dtype: object\n"
          ]
        }
      ],
      "source": [
        "data = pd.read_csv('../Data/final_student_course.csv')\n",
        "\n",
        "data = data.drop(['Title', 'Career_Goal'], axis=1)\n",
        "\n",
        "df = pd.DataFrame(data)\n",
        "print(\"Original Dataset:\")\n",
        "print(df.head())\n",
        "print(\"\\nBasic Information:\")\n",
        "print(df.dtypes)\n"
      ]
    },
    {
      "cell_type": "markdown",
      "metadata": {},
      "source": [
        "#### Check for missing values\n"
      ]
    },
    {
      "cell_type": "code",
      "execution_count": 62,
      "metadata": {},
      "outputs": [
        {
          "name": "stdout",
          "output_type": "stream",
          "text": [
            "\n",
            "Missing Values:\n",
            "Branch             0\n",
            "Percentage_10th    0\n",
            "Percentage_12th    0\n",
            "Course Type        0\n",
            "Skills             0\n",
            "Category           0\n",
            "dtype: int64\n"
          ]
        }
      ],
      "source": [
        "print(\"\\nMissing Values:\")\n",
        "print(df.isnull().sum())"
      ]
    },
    {
      "cell_type": "code",
      "execution_count": 63,
      "metadata": {},
      "outputs": [
        {
          "data": {
            "text/html": [
              "<div>\n",
              "<style scoped>\n",
              "    .dataframe tbody tr th:only-of-type {\n",
              "        vertical-align: middle;\n",
              "    }\n",
              "\n",
              "    .dataframe tbody tr th {\n",
              "        vertical-align: top;\n",
              "    }\n",
              "\n",
              "    .dataframe thead th {\n",
              "        text-align: right;\n",
              "    }\n",
              "</style>\n",
              "<table border=\"1\" class=\"dataframe\">\n",
              "  <thead>\n",
              "    <tr style=\"text-align: right;\">\n",
              "      <th></th>\n",
              "      <th>Branch</th>\n",
              "      <th>Percentage_10th</th>\n",
              "      <th>Percentage_12th</th>\n",
              "      <th>Course Type</th>\n",
              "      <th>Skills</th>\n",
              "      <th>Category</th>\n",
              "    </tr>\n",
              "  </thead>\n",
              "  <tbody>\n",
              "    <tr>\n",
              "      <th>0</th>\n",
              "      <td>MCA</td>\n",
              "      <td>75</td>\n",
              "      <td>65</td>\n",
              "      <td>Course</td>\n",
              "      <td>job portfoliodata cleansingdata analysisdata v...</td>\n",
              "      <td>Data Science</td>\n",
              "    </tr>\n",
              "    <tr>\n",
              "      <th>1</th>\n",
              "      <td>CSIT</td>\n",
              "      <td>85</td>\n",
              "      <td>75</td>\n",
              "      <td>Course</td>\n",
              "      <td>wellbeingimproved symptom managementwholeperso...</td>\n",
              "      <td>Health</td>\n",
              "    </tr>\n",
              "    <tr>\n",
              "      <th>2</th>\n",
              "      <td>MCA</td>\n",
              "      <td>75</td>\n",
              "      <td>65</td>\n",
              "      <td>Specialization</td>\n",
              "      <td>web development cascading style sheets css htm...</td>\n",
              "      <td>Computer Science</td>\n",
              "    </tr>\n",
              "    <tr>\n",
              "      <th>3</th>\n",
              "      <td>CSIT</td>\n",
              "      <td>85</td>\n",
              "      <td>95</td>\n",
              "      <td>Course</td>\n",
              "      <td>data scienceethicsalgorithmsprivacyphilosophy</td>\n",
              "      <td>Data Science</td>\n",
              "    </tr>\n",
              "    <tr>\n",
              "      <th>4</th>\n",
              "      <td>CSME</td>\n",
              "      <td>85</td>\n",
              "      <td>75</td>\n",
              "      <td>Specialization</td>\n",
              "      <td>programming principles python programming java...</td>\n",
              "      <td>Computer Science</td>\n",
              "    </tr>\n",
              "  </tbody>\n",
              "</table>\n",
              "</div>"
            ],
            "text/plain": [
              "  Branch  Percentage_10th  Percentage_12th     Course Type  \\\n",
              "0    MCA               75               65          Course   \n",
              "1   CSIT               85               75          Course   \n",
              "2    MCA               75               65  Specialization   \n",
              "3   CSIT               85               95          Course   \n",
              "4   CSME               85               75  Specialization   \n",
              "\n",
              "                                              Skills          Category  \n",
              "0  job portfoliodata cleansingdata analysisdata v...      Data Science  \n",
              "1  wellbeingimproved symptom managementwholeperso...            Health  \n",
              "2  web development cascading style sheets css htm...  Computer Science  \n",
              "3      data scienceethicsalgorithmsprivacyphilosophy      Data Science  \n",
              "4  programming principles python programming java...  Computer Science  "
            ]
          },
          "execution_count": 63,
          "metadata": {},
          "output_type": "execute_result"
        }
      ],
      "source": [
        "data.head()"
      ]
    },
    {
      "cell_type": "code",
      "execution_count": 64,
      "metadata": {},
      "outputs": [
        {
          "data": {
            "text/plain": [
              "Category\n",
              "Data Science                        1242\n",
              "Computer Science                     636\n",
              "Business                             472\n",
              "Information Technology               234\n",
              "Health                               113\n",
              "Physical Science and Engineering      99\n",
              "Language Learning                     66\n",
              "Arts and Humanities                   52\n",
              "Social Sciences                       49\n",
              "Personal Development                  37\n",
              "Math and Logic                         5\n",
              "Negócios                               2\n",
              "Ciencias de la Computación             1\n",
              "Tecnologia da informação               1\n",
              "Ciencia de Datos                       1\n",
              "Name: count, dtype: int64"
            ]
          },
          "execution_count": 64,
          "metadata": {},
          "output_type": "execute_result"
        }
      ],
      "source": [
        "data['Category'].unique()\n",
        "data['Category'].value_counts()"
      ]
    },
    {
      "cell_type": "code",
      "execution_count": 65,
      "metadata": {},
      "outputs": [],
      "source": [
        "data = data['Category'].value_counts().nlargest(5).index"
      ]
    },
    {
      "cell_type": "markdown",
      "metadata": {},
      "source": [
        "#### Feature 1: Skills count - number of skills mentioned\n"
      ]
    },
    {
      "cell_type": "code",
      "execution_count": 66,
      "metadata": {},
      "outputs": [
        {
          "name": "stdout",
          "output_type": "stream",
          "text": [
            "\n",
            "New Feature 1 - Skills count:\n",
            "                                              Skills  Skills_Count\n",
            "0  job portfoliodata cleansingdata analysisdata v...             7\n",
            "1  wellbeingimproved symptom managementwholeperso...             5\n",
            "2  web development cascading style sheets css htm...            25\n",
            "3      data scienceethicsalgorithmsprivacyphilosophy             2\n",
            "4  programming principles python programming java...            27\n"
          ]
        }
      ],
      "source": [
        "df['Skills_Count'] = df['Skills'].apply(lambda x: len(x.split(' ')))\n",
        "print(\"\\nNew Feature 1 - Skills count:\")\n",
        "print(df[['Skills', 'Skills_Count']].head())\n"
      ]
    },
    {
      "cell_type": "markdown",
      "metadata": {},
      "source": [
        "#### Feature 2: Academic Performance Score - weighted average of 10th and 12th percentages\n"
      ]
    },
    {
      "cell_type": "code",
      "execution_count": 67,
      "metadata": {},
      "outputs": [
        {
          "name": "stdout",
          "output_type": "stream",
          "text": [
            "\n",
            "New Feature 2 - Academic Score:\n",
            "   Percentage_10th  Percentage_12th  Academic_Score\n",
            "0               75               65            69.0\n",
            "1               85               75            79.0\n",
            "2               75               65            69.0\n",
            "3               85               95            91.0\n",
            "4               85               75            79.0\n"
          ]
        }
      ],
      "source": [
        "df['Academic_Score'] = 0.6*df['Percentage_12th'] + 0.4*df['Percentage_10th']\n",
        "print(\"\\nNew Feature 2 - Academic Score:\")\n",
        "print(df[['Percentage_10th', 'Percentage_12th', 'Academic_Score']].head())"
      ]
    },
    {
      "cell_type": "markdown",
      "metadata": {},
      "source": [
        "#### Feature 3: Performance Gap - difference between 12th and 10th percentages"
      ]
    },
    {
      "cell_type": "code",
      "execution_count": 68,
      "metadata": {},
      "outputs": [
        {
          "name": "stdout",
          "output_type": "stream",
          "text": [
            "\n",
            "New Feature 3 - Performance Gap:\n",
            "   Percentage_10th  Percentage_12th  Performance_Gap\n",
            "0               75               65              -10\n",
            "1               85               75              -10\n",
            "2               75               65              -10\n",
            "3               85               95               10\n",
            "4               85               75              -10\n"
          ]
        }
      ],
      "source": [
        "df['Performance_Gap'] = df['Percentage_12th'] - df['Percentage_10th']\n",
        "print(\"\\nNew Feature 3 - Performance Gap:\")\n",
        "print(df[['Percentage_10th', 'Percentage_12th', 'Performance_Gap']].head())"
      ]
    },
    {
      "cell_type": "markdown",
      "metadata": {},
      "source": [
        "#### Encoding data using Label Encoding"
      ]
    },
    {
      "cell_type": "code",
      "execution_count": 69,
      "metadata": {},
      "outputs": [],
      "source": [
        "label_encoder = LabelEncoder()\n",
        "df['Course_Type_Encoded'] = label_encoder.fit_transform(df['Course Type'])\n",
        "\n",
        "categorical_cols = ['Branch', 'Course Type', 'Category']\n",
        "label_encoders = {}\n",
        "for col in categorical_cols:\n",
        "    le = LabelEncoder()\n",
        "    df[col + '_Encoded'] = le.fit_transform(df[col])\n",
        "    label_encoders[col] = le \n",
        "\n",
        "# Drop original categorical columns\n",
        "df.drop(columns=categorical_cols, inplace=True)"
      ]
    },
    {
      "cell_type": "code",
      "execution_count": 70,
      "metadata": {},
      "outputs": [
        {
          "name": "stdout",
          "output_type": "stream",
          "text": [
            "   Percentage_10th  Percentage_12th  \\\n",
            "0               75               65   \n",
            "1               85               75   \n",
            "2               75               65   \n",
            "3               85               95   \n",
            "4               85               75   \n",
            "\n",
            "                                              Skills  Skills_Count  \\\n",
            "0  job portfoliodata cleansingdata analysisdata v...             7   \n",
            "1  wellbeingimproved symptom managementwholeperso...             5   \n",
            "2  web development cascading style sheets css htm...            25   \n",
            "3      data scienceethicsalgorithmsprivacyphilosophy             2   \n",
            "4  programming principles python programming java...            27   \n",
            "\n",
            "   Academic_Score  Performance_Gap  Course_Type_Encoded  Branch_Encoded  \\\n",
            "0            69.0              -10                    0               7   \n",
            "1            79.0              -10                    0               2   \n",
            "2            69.0              -10                    3               7   \n",
            "3            91.0               10                    0               2   \n",
            "4            79.0              -10                    3               3   \n",
            "\n",
            "   Course Type_Encoded  Category_Encoded  \n",
            "0                    0                 5  \n",
            "1                    0                 6  \n",
            "2                    3                 4  \n",
            "3                    0                 5  \n",
            "4                    3                 4  \n"
          ]
        }
      ],
      "source": [
        "print(df.head())"
      ]
    },
    {
      "cell_type": "code",
      "execution_count": 71,
      "metadata": {},
      "outputs": [],
      "source": [
        "df.drop(columns=['Course Type_Encoded'], inplace=True)"
      ]
    },
    {
      "cell_type": "code",
      "execution_count": 74,
      "metadata": {},
      "outputs": [
        {
          "data": {
            "text/html": [
              "<div>\n",
              "<style scoped>\n",
              "    .dataframe tbody tr th:only-of-type {\n",
              "        vertical-align: middle;\n",
              "    }\n",
              "\n",
              "    .dataframe tbody tr th {\n",
              "        vertical-align: top;\n",
              "    }\n",
              "\n",
              "    .dataframe thead th {\n",
              "        text-align: right;\n",
              "    }\n",
              "</style>\n",
              "<table border=\"1\" class=\"dataframe\">\n",
              "  <thead>\n",
              "    <tr style=\"text-align: right;\">\n",
              "      <th></th>\n",
              "      <th>Percentage_10th</th>\n",
              "      <th>Percentage_12th</th>\n",
              "      <th>Skills</th>\n",
              "      <th>Skills_Count</th>\n",
              "      <th>Academic_Score</th>\n",
              "      <th>Performance_Gap</th>\n",
              "      <th>Course_Type_Encoded</th>\n",
              "      <th>Branch_Encoded</th>\n",
              "      <th>Category_Encoded</th>\n",
              "    </tr>\n",
              "  </thead>\n",
              "  <tbody>\n",
              "    <tr>\n",
              "      <th>0</th>\n",
              "      <td>75</td>\n",
              "      <td>65</td>\n",
              "      <td>job portfoliodata cleansingdata analysisdata v...</td>\n",
              "      <td>7</td>\n",
              "      <td>69.0</td>\n",
              "      <td>-10</td>\n",
              "      <td>0</td>\n",
              "      <td>7</td>\n",
              "      <td>5</td>\n",
              "    </tr>\n",
              "    <tr>\n",
              "      <th>1</th>\n",
              "      <td>85</td>\n",
              "      <td>75</td>\n",
              "      <td>wellbeingimproved symptom managementwholeperso...</td>\n",
              "      <td>5</td>\n",
              "      <td>79.0</td>\n",
              "      <td>-10</td>\n",
              "      <td>0</td>\n",
              "      <td>2</td>\n",
              "      <td>6</td>\n",
              "    </tr>\n",
              "    <tr>\n",
              "      <th>2</th>\n",
              "      <td>75</td>\n",
              "      <td>65</td>\n",
              "      <td>web development cascading style sheets css htm...</td>\n",
              "      <td>25</td>\n",
              "      <td>69.0</td>\n",
              "      <td>-10</td>\n",
              "      <td>3</td>\n",
              "      <td>7</td>\n",
              "      <td>4</td>\n",
              "    </tr>\n",
              "    <tr>\n",
              "      <th>3</th>\n",
              "      <td>85</td>\n",
              "      <td>95</td>\n",
              "      <td>data scienceethicsalgorithmsprivacyphilosophy</td>\n",
              "      <td>2</td>\n",
              "      <td>91.0</td>\n",
              "      <td>10</td>\n",
              "      <td>0</td>\n",
              "      <td>2</td>\n",
              "      <td>5</td>\n",
              "    </tr>\n",
              "    <tr>\n",
              "      <th>4</th>\n",
              "      <td>85</td>\n",
              "      <td>75</td>\n",
              "      <td>programming principles python programming java...</td>\n",
              "      <td>27</td>\n",
              "      <td>79.0</td>\n",
              "      <td>-10</td>\n",
              "      <td>3</td>\n",
              "      <td>3</td>\n",
              "      <td>4</td>\n",
              "    </tr>\n",
              "  </tbody>\n",
              "</table>\n",
              "</div>"
            ],
            "text/plain": [
              "   Percentage_10th  Percentage_12th  \\\n",
              "0               75               65   \n",
              "1               85               75   \n",
              "2               75               65   \n",
              "3               85               95   \n",
              "4               85               75   \n",
              "\n",
              "                                              Skills  Skills_Count  \\\n",
              "0  job portfoliodata cleansingdata analysisdata v...             7   \n",
              "1  wellbeingimproved symptom managementwholeperso...             5   \n",
              "2  web development cascading style sheets css htm...            25   \n",
              "3      data scienceethicsalgorithmsprivacyphilosophy             2   \n",
              "4  programming principles python programming java...            27   \n",
              "\n",
              "   Academic_Score  Performance_Gap  Course_Type_Encoded  Branch_Encoded  \\\n",
              "0            69.0              -10                    0               7   \n",
              "1            79.0              -10                    0               2   \n",
              "2            69.0              -10                    3               7   \n",
              "3            91.0               10                    0               2   \n",
              "4            79.0              -10                    3               3   \n",
              "\n",
              "   Category_Encoded  \n",
              "0                 5  \n",
              "1                 6  \n",
              "2                 4  \n",
              "3                 5  \n",
              "4                 4  "
            ]
          },
          "execution_count": 74,
          "metadata": {},
          "output_type": "execute_result"
        }
      ],
      "source": [
        "df.head()"
      ]
    },
    {
      "cell_type": "code",
      "execution_count": 75,
      "metadata": {},
      "outputs": [],
      "source": [
        "df_encoded = df.copy()"
      ]
    },
    {
      "cell_type": "markdown",
      "metadata": {},
      "source": [
        "#### Vectorizing Skills feature for model training"
      ]
    },
    {
      "cell_type": "code",
      "execution_count": 76,
      "metadata": {},
      "outputs": [
        {
          "data": {
            "text/plain": [
              "Index(['Percentage_10th', 'Percentage_12th', 'Skills_Count', 'Academic_Score',\n",
              "       'Performance_Gap', 'Course_Type_Encoded', 'Branch_Encoded',\n",
              "       'Category_Encoded', 'ab', 'abatement',\n",
              "       ...\n",
              "       'wireless', 'work', 'workflow', 'workload', 'workloads', 'world',\n",
              "       'write', 'writing', 'writingcommunicationwriting', 'xml'],\n",
              "      dtype='object', length=1008)"
            ]
          },
          "execution_count": 76,
          "metadata": {},
          "output_type": "execute_result"
        }
      ],
      "source": [
        "from sklearn.feature_extraction.text import TfidfVectorizer\n",
        "\n",
        "tfidf = TfidfVectorizer(stop_words='english', max_features=1000)\n",
        "\n",
        "Skills_tfidf = tfidf.fit_transform(df_encoded['Skills']).toarray()\n",
        "\n",
        "tfidf_df = pd.DataFrame(Skills_tfidf, columns=tfidf.get_feature_names_out())\n",
        "\n",
        "df_encoded = pd.concat([df.reset_index(drop=True), tfidf_df], axis=1)\n",
        "df_encoded.drop(columns=['Skills'], inplace=True)\n",
        "df_encoded.columns"
      ]
    },
    {
      "cell_type": "code",
      "execution_count": 77,
      "metadata": {},
      "outputs": [
        {
          "data": {
            "text/html": [
              "<div>\n",
              "<style scoped>\n",
              "    .dataframe tbody tr th:only-of-type {\n",
              "        vertical-align: middle;\n",
              "    }\n",
              "\n",
              "    .dataframe tbody tr th {\n",
              "        vertical-align: top;\n",
              "    }\n",
              "\n",
              "    .dataframe thead th {\n",
              "        text-align: right;\n",
              "    }\n",
              "</style>\n",
              "<table border=\"1\" class=\"dataframe\">\n",
              "  <thead>\n",
              "    <tr style=\"text-align: right;\">\n",
              "      <th></th>\n",
              "      <th>Percentage_10th</th>\n",
              "      <th>Percentage_12th</th>\n",
              "      <th>Skills_Count</th>\n",
              "      <th>Academic_Score</th>\n",
              "      <th>Performance_Gap</th>\n",
              "      <th>Course_Type_Encoded</th>\n",
              "      <th>Branch_Encoded</th>\n",
              "      <th>Category_Encoded</th>\n",
              "      <th>ab</th>\n",
              "      <th>abatement</th>\n",
              "      <th>...</th>\n",
              "      <th>wireless</th>\n",
              "      <th>work</th>\n",
              "      <th>workflow</th>\n",
              "      <th>workload</th>\n",
              "      <th>workloads</th>\n",
              "      <th>world</th>\n",
              "      <th>write</th>\n",
              "      <th>writing</th>\n",
              "      <th>writingcommunicationwriting</th>\n",
              "      <th>xml</th>\n",
              "    </tr>\n",
              "  </thead>\n",
              "  <tbody>\n",
              "    <tr>\n",
              "      <th>0</th>\n",
              "      <td>75</td>\n",
              "      <td>65</td>\n",
              "      <td>7</td>\n",
              "      <td>69.0</td>\n",
              "      <td>-10</td>\n",
              "      <td>0</td>\n",
              "      <td>7</td>\n",
              "      <td>5</td>\n",
              "      <td>0.0</td>\n",
              "      <td>0.0</td>\n",
              "      <td>...</td>\n",
              "      <td>0.0</td>\n",
              "      <td>0.0</td>\n",
              "      <td>0.0</td>\n",
              "      <td>0.0</td>\n",
              "      <td>0.0</td>\n",
              "      <td>0.0</td>\n",
              "      <td>0.0</td>\n",
              "      <td>0.0</td>\n",
              "      <td>0.0</td>\n",
              "      <td>0.0</td>\n",
              "    </tr>\n",
              "    <tr>\n",
              "      <th>1</th>\n",
              "      <td>85</td>\n",
              "      <td>75</td>\n",
              "      <td>5</td>\n",
              "      <td>79.0</td>\n",
              "      <td>-10</td>\n",
              "      <td>0</td>\n",
              "      <td>2</td>\n",
              "      <td>6</td>\n",
              "      <td>0.0</td>\n",
              "      <td>0.0</td>\n",
              "      <td>...</td>\n",
              "      <td>0.0</td>\n",
              "      <td>0.0</td>\n",
              "      <td>0.0</td>\n",
              "      <td>0.0</td>\n",
              "      <td>0.0</td>\n",
              "      <td>0.0</td>\n",
              "      <td>0.0</td>\n",
              "      <td>0.0</td>\n",
              "      <td>0.0</td>\n",
              "      <td>0.0</td>\n",
              "    </tr>\n",
              "    <tr>\n",
              "      <th>2</th>\n",
              "      <td>75</td>\n",
              "      <td>65</td>\n",
              "      <td>25</td>\n",
              "      <td>69.0</td>\n",
              "      <td>-10</td>\n",
              "      <td>3</td>\n",
              "      <td>7</td>\n",
              "      <td>4</td>\n",
              "      <td>0.0</td>\n",
              "      <td>0.0</td>\n",
              "      <td>...</td>\n",
              "      <td>0.0</td>\n",
              "      <td>0.0</td>\n",
              "      <td>0.0</td>\n",
              "      <td>0.0</td>\n",
              "      <td>0.0</td>\n",
              "      <td>0.0</td>\n",
              "      <td>0.0</td>\n",
              "      <td>0.0</td>\n",
              "      <td>0.0</td>\n",
              "      <td>0.0</td>\n",
              "    </tr>\n",
              "    <tr>\n",
              "      <th>3</th>\n",
              "      <td>85</td>\n",
              "      <td>95</td>\n",
              "      <td>2</td>\n",
              "      <td>91.0</td>\n",
              "      <td>10</td>\n",
              "      <td>0</td>\n",
              "      <td>2</td>\n",
              "      <td>5</td>\n",
              "      <td>0.0</td>\n",
              "      <td>0.0</td>\n",
              "      <td>...</td>\n",
              "      <td>0.0</td>\n",
              "      <td>0.0</td>\n",
              "      <td>0.0</td>\n",
              "      <td>0.0</td>\n",
              "      <td>0.0</td>\n",
              "      <td>0.0</td>\n",
              "      <td>0.0</td>\n",
              "      <td>0.0</td>\n",
              "      <td>0.0</td>\n",
              "      <td>0.0</td>\n",
              "    </tr>\n",
              "    <tr>\n",
              "      <th>4</th>\n",
              "      <td>85</td>\n",
              "      <td>75</td>\n",
              "      <td>27</td>\n",
              "      <td>79.0</td>\n",
              "      <td>-10</td>\n",
              "      <td>3</td>\n",
              "      <td>3</td>\n",
              "      <td>4</td>\n",
              "      <td>0.0</td>\n",
              "      <td>0.0</td>\n",
              "      <td>...</td>\n",
              "      <td>0.0</td>\n",
              "      <td>0.0</td>\n",
              "      <td>0.0</td>\n",
              "      <td>0.0</td>\n",
              "      <td>0.0</td>\n",
              "      <td>0.0</td>\n",
              "      <td>0.0</td>\n",
              "      <td>0.0</td>\n",
              "      <td>0.0</td>\n",
              "      <td>0.0</td>\n",
              "    </tr>\n",
              "  </tbody>\n",
              "</table>\n",
              "<p>5 rows × 1008 columns</p>\n",
              "</div>"
            ],
            "text/plain": [
              "   Percentage_10th  Percentage_12th  Skills_Count  Academic_Score  \\\n",
              "0               75               65             7            69.0   \n",
              "1               85               75             5            79.0   \n",
              "2               75               65            25            69.0   \n",
              "3               85               95             2            91.0   \n",
              "4               85               75            27            79.0   \n",
              "\n",
              "   Performance_Gap  Course_Type_Encoded  Branch_Encoded  Category_Encoded  \\\n",
              "0              -10                    0               7                 5   \n",
              "1              -10                    0               2                 6   \n",
              "2              -10                    3               7                 4   \n",
              "3               10                    0               2                 5   \n",
              "4              -10                    3               3                 4   \n",
              "\n",
              "    ab  abatement  ...  wireless  work  workflow  workload  workloads  world  \\\n",
              "0  0.0        0.0  ...       0.0   0.0       0.0       0.0        0.0    0.0   \n",
              "1  0.0        0.0  ...       0.0   0.0       0.0       0.0        0.0    0.0   \n",
              "2  0.0        0.0  ...       0.0   0.0       0.0       0.0        0.0    0.0   \n",
              "3  0.0        0.0  ...       0.0   0.0       0.0       0.0        0.0    0.0   \n",
              "4  0.0        0.0  ...       0.0   0.0       0.0       0.0        0.0    0.0   \n",
              "\n",
              "   write  writing  writingcommunicationwriting  xml  \n",
              "0    0.0      0.0                          0.0  0.0  \n",
              "1    0.0      0.0                          0.0  0.0  \n",
              "2    0.0      0.0                          0.0  0.0  \n",
              "3    0.0      0.0                          0.0  0.0  \n",
              "4    0.0      0.0                          0.0  0.0  \n",
              "\n",
              "[5 rows x 1008 columns]"
            ]
          },
          "execution_count": 77,
          "metadata": {},
          "output_type": "execute_result"
        }
      ],
      "source": [
        "df_encoded.head()"
      ]
    },
    {
      "cell_type": "markdown",
      "metadata": {},
      "source": [
        "#### Independent and Depndent variable split"
      ]
    },
    {
      "cell_type": "code",
      "execution_count": 78,
      "metadata": {},
      "outputs": [
        {
          "data": {
            "text/plain": [
              "(3010, 1007)"
            ]
          },
          "execution_count": 78,
          "metadata": {},
          "output_type": "execute_result"
        }
      ],
      "source": [
        "X = df_encoded.drop(columns=['Category_Encoded'])\n",
        "X.head()\n",
        "X.shape"
      ]
    },
    {
      "cell_type": "code",
      "execution_count": 79,
      "metadata": {},
      "outputs": [
        {
          "data": {
            "text/plain": [
              "Index(['Percentage_10th', 'Percentage_12th', 'Skills_Count', 'Academic_Score',\n",
              "       'Performance_Gap', 'Course_Type_Encoded', 'Branch_Encoded', 'ab',\n",
              "       'abatement', 'access',\n",
              "       ...\n",
              "       'wireless', 'work', 'workflow', 'workload', 'workloads', 'world',\n",
              "       'write', 'writing', 'writingcommunicationwriting', 'xml'],\n",
              "      dtype='object', length=1007)"
            ]
          },
          "execution_count": 79,
          "metadata": {},
          "output_type": "execute_result"
        }
      ],
      "source": [
        "X.columns"
      ]
    },
    {
      "cell_type": "code",
      "execution_count": 80,
      "metadata": {},
      "outputs": [
        {
          "data": {
            "text/plain": [
              "(3010,)"
            ]
          },
          "execution_count": 80,
          "metadata": {},
          "output_type": "execute_result"
        }
      ],
      "source": [
        "y = df_encoded['Course_Type_Encoded']\n",
        "y.head()\n",
        "y.shape"
      ]
    },
    {
      "cell_type": "markdown",
      "metadata": {},
      "source": [
        "#### Feature importance extracter"
      ]
    },
    {
      "cell_type": "markdown",
      "metadata": {},
      "source": [
        "#### 1. Random Forest Selector"
      ]
    },
    {
      "cell_type": "code",
      "execution_count": 81,
      "metadata": {},
      "outputs": [
        {
          "data": {
            "text/html": [
              "<div>\n",
              "<style scoped>\n",
              "    .dataframe tbody tr th:only-of-type {\n",
              "        vertical-align: middle;\n",
              "    }\n",
              "\n",
              "    .dataframe tbody tr th {\n",
              "        vertical-align: top;\n",
              "    }\n",
              "\n",
              "    .dataframe thead th {\n",
              "        text-align: right;\n",
              "    }\n",
              "</style>\n",
              "<table border=\"1\" class=\"dataframe\">\n",
              "  <thead>\n",
              "    <tr style=\"text-align: right;\">\n",
              "      <th></th>\n",
              "      <th>Feature</th>\n",
              "      <th>Importance</th>\n",
              "    </tr>\n",
              "  </thead>\n",
              "  <tbody>\n",
              "    <tr>\n",
              "      <th>5</th>\n",
              "      <td>Course_Type_Encoded</td>\n",
              "      <td>0.300561</td>\n",
              "    </tr>\n",
              "    <tr>\n",
              "      <th>2</th>\n",
              "      <td>Skills_Count</td>\n",
              "      <td>0.115456</td>\n",
              "    </tr>\n",
              "    <tr>\n",
              "      <th>534</th>\n",
              "      <td>machine</td>\n",
              "      <td>0.027480</td>\n",
              "    </tr>\n",
              "    <tr>\n",
              "      <th>788</th>\n",
              "      <td>science</td>\n",
              "      <td>0.026603</td>\n",
              "    </tr>\n",
              "    <tr>\n",
              "      <th>697</th>\n",
              "      <td>programming</td>\n",
              "      <td>0.022490</td>\n",
              "    </tr>\n",
              "    <tr>\n",
              "      <th>862</th>\n",
              "      <td>sql</td>\n",
              "      <td>0.020471</td>\n",
              "    </tr>\n",
              "    <tr>\n",
              "      <th>32</th>\n",
              "      <td>analysis</td>\n",
              "      <td>0.020210</td>\n",
              "    </tr>\n",
              "    <tr>\n",
              "      <th>216</th>\n",
              "      <td>data</td>\n",
              "      <td>0.019190</td>\n",
              "    </tr>\n",
              "    <tr>\n",
              "      <th>20</th>\n",
              "      <td>ai</td>\n",
              "      <td>0.010216</td>\n",
              "    </tr>\n",
              "    <tr>\n",
              "      <th>500</th>\n",
              "      <td>learning</td>\n",
              "      <td>0.010078</td>\n",
              "    </tr>\n",
              "  </tbody>\n",
              "</table>\n",
              "</div>"
            ],
            "text/plain": [
              "                 Feature  Importance\n",
              "5    Course_Type_Encoded    0.300561\n",
              "2           Skills_Count    0.115456\n",
              "534              machine    0.027480\n",
              "788              science    0.026603\n",
              "697          programming    0.022490\n",
              "862                  sql    0.020471\n",
              "32              analysis    0.020210\n",
              "216                 data    0.019190\n",
              "20                    ai    0.010216\n",
              "500             learning    0.010078"
            ]
          },
          "execution_count": 81,
          "metadata": {},
          "output_type": "execute_result"
        }
      ],
      "source": [
        "rf_selector = RandomForestClassifier(n_estimators=100, random_state=42)\n",
        "rf_selector.fit(X, y)\n",
        "top_rf = pd.DataFrame({\n",
        "'Feature': X.columns,\n",
        "'Importance': rf_selector.feature_importances_\n",
        "})\n",
        "\n",
        "top_rf = top_rf.sort_values(by='Importance', ascending=False).head(10)\n",
        "top_rf"
      ]
    },
    {
      "cell_type": "markdown",
      "metadata": {},
      "source": [
        "#### 2. Mutual Info Classifier"
      ]
    },
    {
      "cell_type": "code",
      "execution_count": 82,
      "metadata": {},
      "outputs": [
        {
          "data": {
            "text/html": [
              "<div>\n",
              "<style scoped>\n",
              "    .dataframe tbody tr th:only-of-type {\n",
              "        vertical-align: middle;\n",
              "    }\n",
              "\n",
              "    .dataframe tbody tr th {\n",
              "        vertical-align: top;\n",
              "    }\n",
              "\n",
              "    .dataframe thead th {\n",
              "        text-align: right;\n",
              "    }\n",
              "</style>\n",
              "<table border=\"1\" class=\"dataframe\">\n",
              "  <thead>\n",
              "    <tr style=\"text-align: right;\">\n",
              "      <th></th>\n",
              "      <th>Feature</th>\n",
              "      <th>MI_Score</th>\n",
              "    </tr>\n",
              "  </thead>\n",
              "  <tbody>\n",
              "    <tr>\n",
              "      <th>5</th>\n",
              "      <td>Course_Type_Encoded</td>\n",
              "      <td>0.837254</td>\n",
              "    </tr>\n",
              "    <tr>\n",
              "      <th>2</th>\n",
              "      <td>Skills_Count</td>\n",
              "      <td>0.488188</td>\n",
              "    </tr>\n",
              "    <tr>\n",
              "      <th>216</th>\n",
              "      <td>data</td>\n",
              "      <td>0.315966</td>\n",
              "    </tr>\n",
              "    <tr>\n",
              "      <th>32</th>\n",
              "      <td>analysis</td>\n",
              "      <td>0.171076</td>\n",
              "    </tr>\n",
              "    <tr>\n",
              "      <th>697</th>\n",
              "      <td>programming</td>\n",
              "      <td>0.156920</td>\n",
              "    </tr>\n",
              "    <tr>\n",
              "      <th>500</th>\n",
              "      <td>learning</td>\n",
              "      <td>0.137947</td>\n",
              "    </tr>\n",
              "    <tr>\n",
              "      <th>534</th>\n",
              "      <td>machine</td>\n",
              "      <td>0.131653</td>\n",
              "    </tr>\n",
              "    <tr>\n",
              "      <th>985</th>\n",
              "      <td>visualization</td>\n",
              "      <td>0.112272</td>\n",
              "    </tr>\n",
              "    <tr>\n",
              "      <th>224</th>\n",
              "      <td>dataviz</td>\n",
              "      <td>0.099170</td>\n",
              "    </tr>\n",
              "    <tr>\n",
              "      <th>788</th>\n",
              "      <td>science</td>\n",
              "      <td>0.093401</td>\n",
              "    </tr>\n",
              "  </tbody>\n",
              "</table>\n",
              "</div>"
            ],
            "text/plain": [
              "                 Feature  MI_Score\n",
              "5    Course_Type_Encoded  0.837254\n",
              "2           Skills_Count  0.488188\n",
              "216                 data  0.315966\n",
              "32              analysis  0.171076\n",
              "697          programming  0.156920\n",
              "500             learning  0.137947\n",
              "534              machine  0.131653\n",
              "985        visualization  0.112272\n",
              "224              dataviz  0.099170\n",
              "788              science  0.093401"
            ]
          },
          "execution_count": 82,
          "metadata": {},
          "output_type": "execute_result"
        }
      ],
      "source": [
        "mi_scores = mutual_info_classif(X, y, random_state=42)\n",
        "feature_importance_mi = pd.DataFrame({\n",
        "    'Feature': X.columns,\n",
        "    'MI_Score': mi_scores\n",
        "})\n",
        "\n",
        "feature_importance_mi = feature_importance_mi.sort_values(by='MI_Score', ascending=False).head(10)\n",
        "feature_importance_mi"
      ]
    },
    {
      "cell_type": "code",
      "execution_count": 84,
      "metadata": {},
      "outputs": [
        {
          "data": {
            "image/png": "[encoded data removed]",
            "text/plain": [
              "<Figure size 1200x600 with 2 Axes>"
            ]
          },
          "metadata": {},
          "output_type": "display_data"
        }
      ],
      "source": [
        "plt.figure(figsize=(12, 6))\n",
        "\n",
        "plt.subplot(1, 2, 1)\n",
        "sns.barplot(x='Importance', y='Feature', data=top_rf)\n",
        "plt.title('Random Forest Feature Importance')\n",
        "\n",
        "plt.subplot(1, 2, 2)\n",
        "sns.barplot(x='MI_Score', y='Feature', data=feature_importance_mi)\n",
        "plt.title('Mutual Information Feature Importance')\n",
        "\n",
        "plt.tight_layout()\n",
        "plt.show()"
      ]
    },
    {
      "cell_type": "markdown",
      "metadata": {},
      "source": [
        "#### Combining the best features from both the methodologies"
      ]
    },
    {
      "cell_type": "code",
      "execution_count": 85,
      "metadata": {},
      "outputs": [],
      "source": [
        "from sklearn.preprocessing import MinMaxScaler\n",
        "\n",
        "scaler = MinMaxScaler()\n",
        "\n",
        "top_rf['Importance_Norm'] = scaler.fit_transform(top_rf[['Importance']])\n",
        "feature_importance_mi['MI_Score_Norm'] = scaler.fit_transform(feature_importance_mi[['MI_Score']])\n",
        "\n",
        "combined_features = pd.merge(top_rf, feature_importance_mi, on='Feature', how='inner')\n",
        "\n",
        "combined_features['Combined_Score'] = (combined_features['Importance_Norm'] + combined_features['MI_Score_Norm']) / 2\n",
        "\n",
        "combined_features = combined_features.sort_values(by='Combined_Score', ascending=False)\n"
      ]
    },
    {
      "cell_type": "code",
      "execution_count": 86,
      "metadata": {},
      "outputs": [
        {
          "data": {
            "image/png": "[encoded data removed]",
            "text/plain": [
              "<Figure size 1000x600 with 1 Axes>"
            ]
          },
          "metadata": {},
          "output_type": "display_data"
        }
      ],
      "source": [
        "\n",
        "plt.figure(figsize=(10, 6))\n",
        "sns.barplot(x='Combined_Score', y='Feature', data=combined_features, palette='viridis')\n",
        "\n",
        "plt.title('Combined Feature Importance (Random Forest + Mutual Information)', fontsize=16)\n",
        "plt.xlabel('Combined Importance Score', fontsize=12)\n",
        "plt.ylabel('Feature', fontsize=12)\n",
        "\n",
        "plt.tight_layout()\n",
        "plt.show()"
      ]
    },
    {
      "cell_type": "markdown",
      "metadata": {},
      "source": [
        "#### Dimensionality Redution using PCA and Best features selection"
      ]
    },
    {
      "cell_type": "code",
      "execution_count": 87,
      "metadata": {},
      "outputs": [
        {
          "name": "stdout",
          "output_type": "stream",
          "text": [
            "PCA Applied: Number of Components = 3\n"
          ]
        }
      ],
      "source": [
        "from sklearn.decomposition import PCA\n",
        "from sklearn.feature_selection import SelectKBest, f_classif\n",
        "\n",
        "pca = PCA(n_components=0.95)  # Retain 95% variance\n",
        "X_pca = pca.fit_transform(X)\n",
        "\n",
        "print(\"PCA Applied: Number of Components =\", pca.n_components_)"
      ]
    },
    {
      "cell_type": "code",
      "execution_count": 88,
      "metadata": {},
      "outputs": [
        {
          "name": "stdout",
          "output_type": "stream",
          "text": [
            "Selected PCA Components: [0 1 2]\n"
          ]
        }
      ],
      "source": [
        "selector = SelectKBest(score_func=f_classif, k=10)\n",
        "X_selected = selector.fit_transform(X_pca, y)\n",
        "\n",
        "selected_component_indices = selector.get_support(indices=True)\n",
        "print(\"Selected PCA Components:\", selected_component_indices)"
      ]
    },
    {
      "cell_type": "markdown",
      "metadata": {},
      "source": [
        "#### Train and Test Split"
      ]
    },
    {
      "cell_type": "code",
      "execution_count": 96,
      "metadata": {},
      "outputs": [],
      "source": [
        "X_train, X_test, y_train, y_test = train_test_split(X_selected, y, test_size=0.15, random_state=42, stratify=y)"
      ]
    },
    {
      "cell_type": "markdown",
      "metadata": {},
      "source": [
        "#### Class balancing using SMOTE"
      ]
    },
    {
      "cell_type": "code",
      "execution_count": 97,
      "metadata": {},
      "outputs": [],
      "source": [
        "from imblearn.over_sampling import SMOTE\n",
        "smote = SMOTE(sampling_strategy='auto', random_state=42)\n",
        "X_train, y_train = smote.fit_resample(X_train, y_train)\n"
      ]
    },
    {
      "cell_type": "markdown",
      "metadata": {},
      "source": [
        "#### Models declaration"
      ]
    },
    {
      "cell_type": "code",
      "execution_count": 94,
      "metadata": {},
      "outputs": [],
      "source": [
        "models = {\n",
        "    'Logistic Regression': LogisticRegression(max_iter=2000, random_state=42),\n",
        "    'Decision Tree': DecisionTreeClassifier(random_state=42),\n",
        "    'Random Forest': RandomForestClassifier(n_estimators=100, random_state=42),\n",
        "    'Support Vector Machine': SVC(probability=True, kernel='rbf', random_state=42)\n",
        "    }"
      ]
    },
    {
      "cell_type": "markdown",
      "metadata": {},
      "source": [
        "#### Model training and Evaluation"
      ]
    },
    {
      "cell_type": "code",
      "execution_count": 99,
      "metadata": {},
      "outputs": [
        {
          "name": "stdout",
          "output_type": "stream",
          "text": [
            "                    Model  accuracy  precision    recall  f1_score  \\\n",
            "1           Decision Tree  0.942478   0.943671  0.942478  0.943057   \n",
            "2           Random Forest  0.929204   0.931160  0.929204  0.930033   \n",
            "3  Support Vector Machine  0.564159   0.859689  0.564159  0.665331   \n",
            "0     Logistic Regression  0.407080   0.824193  0.407080  0.526678   \n",
            "\n",
            "   cv_accuracy   roc_auc  \n",
            "1     0.901247  0.849831  \n",
            "2     0.916388  0.904963  \n",
            "3     0.652927  0.816173  \n",
            "0     0.534322  0.807080  \n"
          ]
        },
        {
          "data": {
            "text/plain": [
              "<Figure size 1200x600 with 0 Axes>"
            ]
          },
          "metadata": {},
          "output_type": "display_data"
        },
        {
          "data": {
            "image/png": "[encoded data removed]",
            "text/plain": [
              "<Figure size 1200x600 with 1 Axes>"
            ]
          },
          "metadata": {},
          "output_type": "display_data"
        }
      ],
      "source": [
        "from sklearn.metrics import roc_curve, roc_auc_score, accuracy_score, precision_score, recall_score, f1_score, classification_report, confusion_matrix\n",
        "from sklearn.model_selection import cross_val_score\n",
        "import numpy as np\n",
        "import pandas as pd\n",
        "import matplotlib.pyplot as plt\n",
        "\n",
        "# Function to train and evaluate a model with cross-validation and ROC-AUC computation\n",
        "def evaluate_model(model, X_train, X_test, y_train, y_test):\n",
        "    \"\"\"\n",
        "    Trains the model, evaluates its performance, and computes various classification metrics.\n",
        "    Also performs cross-validation and calculates ROC-AUC for multi-class classification.\n",
        "    \"\"\"\n",
        "    \n",
        "    # Train the model\n",
        "    model.fit(X_train, y_train)\n",
        "    \n",
        "    # Predictions\n",
        "    y_pred = model.predict(X_test)\n",
        "    y_pred_proba = model.predict_proba(X_test)  # Probability predictions for ROC-AUC\n",
        "    \n",
        "    # Perform cross-validation (5-fold, or reduce if needed for small datasets)\n",
        "    cv_scores = cross_val_score(model, X_train, y_train, cv=5)\n",
        "    \n",
        "    # Compute classification metrics\n",
        "    metrics = {\n",
        "        'accuracy': accuracy_score(y_test, y_pred),\n",
        "        'precision': precision_score(y_test, y_pred, average='weighted', zero_division=0),\n",
        "        'recall': recall_score(y_test, y_pred, average='weighted', zero_division=0),\n",
        "        'f1_score': f1_score(y_test, y_pred, average='weighted', zero_division=0),\n",
        "        'cv_accuracy': np.mean(cv_scores),\n",
        "    }\n",
        "    \n",
        "    # Convert label encoding to one-hot encoding if necessary\n",
        "    if len(y_test.shape) == 1:\n",
        "        num_classes = len(np.unique(y_test))\n",
        "        y_test_bin = np.zeros((len(y_test), num_classes))\n",
        "        for i, label in enumerate(y_test):\n",
        "            y_test_bin[i, label] = 1\n",
        "        y_test = y_test_bin\n",
        "    \n",
        "    # Compute ROC-AUC for each class\n",
        "    roc_auc_scores = [roc_auc_score(y_test[:, i], y_pred_proba[:, i]) for i in range(y_test.shape[1])]\n",
        "    metrics['roc_auc'] = np.mean(roc_auc_scores)  # Average ROC-AUC over all classes\n",
        "    \n",
        "    return metrics\n",
        "\n",
        "# Dictionary to store results\n",
        "results = {}\n",
        "\n",
        "# Evaluate all models\n",
        "for model_name, model in models.items():\n",
        "    results[model_name] = evaluate_model(model, X_train, X_test, y_train, y_test)\n",
        "\n",
        "# Convert results into a DataFrame for comparison\n",
        "comparison_df = pd.DataFrame(results).T.reset_index().rename(columns={'index': 'Model'})\n",
        "\n",
        "# Sort models by F1 Score (higher is better)\n",
        "comparison_df = comparison_df.sort_values('f1_score', ascending=False)\n",
        "print(comparison_df)\n",
        "\n",
        "# Plot model comparison\n",
        "plt.figure(figsize=(12, 6))\n",
        "comparison_df.set_index('Model').plot(kind='bar', figsize=(12, 6))\n",
        "plt.title('Model Performance Comparison')\n",
        "plt.ylabel('Score')\n",
        "plt.xticks(rotation=45)\n",
        "plt.legend(loc='upper left')\n",
        "plt.tight_layout()\n",
        "plt.show()\n",
        "\n",
        "# Identify the best model based on F1 Score\n",
        "best_model_name = comparison_df.iloc[0]['Model']\n",
        "best_model = models[best_model_name]\n",
        "\n",
        "# Retrain the best model for final evaluation\n",
        "best_model.fit(X_train, y_train)\n",
        "y_pred = best_model.predict(X_test)"
      ]
    },
    {
      "cell_type": "markdown",
      "metadata": {},
      "source": [
        "#### Confusion Matrix"
      ]
    },
    {
      "cell_type": "code",
      "execution_count": 100,
      "metadata": {},
      "outputs": [
        {
          "data": {
            "image/png": "[encoded data removed]",
            "text/plain": [
              "<Figure size 800x600 with 1 Axes>"
            ]
          },
          "metadata": {},
          "output_type": "display_data"
        }
      ],
      "source": [
        "cm = confusion_matrix(y_test, y_pred)\n",
        "plt.figure(figsize=(8, 6))\n",
        "sns.heatmap(cm, annot=True, fmt='d', cmap='Blues', cbar=False)\n",
        "plt.title(f'Confusion Matrix - {best_model_name}')\n",
        "plt.xlabel('Predicted')\n",
        "plt.ylabel('True')\n",
        "plt.show()"
      ]
    },
    {
      "cell_type": "markdown",
      "metadata": {},
      "source": [
        "#### ROC Curve and AUC"
      ]
    },
    {
      "cell_type": "code",
      "execution_count": 101,
      "metadata": {},
      "outputs": [
        {
          "name": "stdout",
          "output_type": "stream",
          "text": [
            "Class 0 - AUC: 0.97\n",
            "Class 1 - AUC: 0.72\n",
            "Class 2 - AUC: 0.75\n",
            "Class 3 - AUC: 0.96\n"
          ]
        },
        {
          "data": {
            "image/png": "[encoded data removed]",
            "text/plain": [
              "<Figure size 800x600 with 1 Axes>"
            ]
          },
          "metadata": {},
          "output_type": "display_data"
        }
      ],
      "source": [
        "from sklearn.metrics import roc_curve, roc_auc_score\n",
        "import matplotlib.pyplot as plt\n",
        "from sklearn.preprocessing import OneHotEncoder\n",
        "\n",
        "encoder = OneHotEncoder(sparse_output=False)\n",
        "y_test_encoded = encoder.fit_transform(y_test.to_numpy().reshape(-1, 1))\n",
        "\n",
        "y_pred_proba = best_model.predict_proba(X_test)\n",
        "\n",
        "num_classes = y_test_encoded.shape[1]\n",
        "\n",
        "plt.figure(figsize=(8, 6))\n",
        "for i in range(num_classes):\n",
        "    fpr, tpr, _ = roc_curve(y_test_encoded[:, i], y_pred_proba[:, i])\n",
        "    auc = roc_auc_score(y_test_encoded[:, i], y_pred_proba[:, i])\n",
        "    print(f'Class {i} - AUC: {auc:.2f}')\n",
        "    plt.plot(fpr, tpr, label=f'Class {i} (AUC = {auc:.2f})')\n",
        "\n",
        "plt.title(f'ROC Curve - {best_model_name}')\n",
        "plt.xlabel('False Positive Rate')\n",
        "plt.ylabel('True Positive Rate')\n",
        "plt.legend(loc='best')\n",
        "plt.show()\n"
      ]
    },
    {
      "cell_type": "code",
      "execution_count": 117,
      "metadata": {},
      "outputs": [
        {
          "data": {
            "text/plain": [
              "['../Models/best_model.pkl']"
            ]
          },
          "execution_count": 117,
          "metadata": {},
          "output_type": "execute_result"
        }
      ],
      "source": [
        "import joblib\n",
        "joblib.dump(best_model, '../Models/best_model.pkl')"
      ]
    },
    {
      "cell_type": "code",
      "execution_count": 125,
      "metadata": {},
      "outputs": [],
      "source": [
        "sc_data = pd.read_csv('../Data/final_student_course.csv')"
      ]
    },
    {
      "cell_type": "code",
      "execution_count": 128,
      "metadata": {},
      "outputs": [],
      "source": [
        "category_title = sc_data['Category'].value_counts().nlargest(4).index"
      ]
    },
    {
      "cell_type": "code",
      "execution_count": 129,
      "metadata": {},
      "outputs": [],
      "source": [
        "job_data = pd.read_csv('../Data/final_job_data.csv')"
      ]
    },
    {
      "cell_type": "code",
      "execution_count": 130,
      "metadata": {},
      "outputs": [],
      "source": [
        "job_title = job_data['Job Title'].unique()"
      ]
    },
    {
      "cell_type": "markdown",
      "metadata": {},
      "source": [
        "#### Using Cosine similarity and TFIDF to match similar jobs"
      ]
    },
    {
      "cell_type": "code",
      "execution_count": 131,
      "metadata": {},
      "outputs": [
        {
          "name": "stdout",
          "output_type": "stream",
          "text": [
            "Top job matches for 'Data Science': Data Science Engineer, Data Science Manager, Data Analyst, Data Engineer\n",
            "Top job matches for 'Computer Science': Data Science Engineer, Data Science Manager, Software Engineer, Data Engineer\n",
            "Top job matches for 'Business': Business Analyst, Business Consultant, Business Intelligence Analyst, Business System Analyst\n",
            "Top job matches for 'Information Technology': Software Engineer, Data Engineer, Business Analyst, Developer\n"
          ]
        }
      ],
      "source": [
        "from sklearn.feature_extraction.text import TfidfVectorizer\n",
        "from sklearn.metrics.pairwise import cosine_similarity\n",
        "import numpy as np\n",
        "import pandas as pd\n",
        "\n",
        "# Combine both lists into one for vectorization\n",
        "all_text = np.concatenate((category_title, job_title))\n",
        "\n",
        "# Use TF-IDF vectorizer to convert text into feature vectors\n",
        "vectorizer = TfidfVectorizer()\n",
        "tfidf_matrix = vectorizer.fit_transform(all_text)\n",
        "\n",
        "# Compute cosine similarity between category_title and job titles\n",
        "similarity_matrix = cosine_similarity(tfidf_matrix[:len(category_title)], tfidf_matrix[len(category_title):])\n",
        "\n",
        "# Convert to DataFrame for better visualization\n",
        "similarity_df = pd.DataFrame(similarity_matrix, index=category_title, columns=job_title)\n",
        "\n",
        "# Find top matches for each category\n",
        "top_matches = {}\n",
        "for category in category_title:\n",
        "    top_jobs = similarity_df.loc[category].nlargest(4)  # Get top 4 matching jobs\n",
        "    top_matches[category] = list(top_jobs.index)\n",
        "\n",
        "# store the value in a dictionary\n",
        "category_job_mapping = {}\n",
        "for category, jobs in top_matches.items():\n",
        "    category_job_mapping[category] = jobs\n",
        "    print(f\"Top job matches for '{category}': {', '.join(jobs)}\")\n"
      ]
    },
    {
      "cell_type": "code",
      "execution_count": null,
      "metadata": {},
      "outputs": [],
      "source": []
    }
  ],
  "metadata": {
    "colab": {
      "provenance": []
    },
    "kernelspec": {
      "display_name": "Python 3",
      "name": "python3"
    },
    "language_info": {
      "codemirror_mode": {
        "name": "ipython",
        "version": 3
      },
      "file_extension": ".py",
      "mimetype": "text/x-python",
      "name": "python",
      "nbconvert_exporter": "python",
      "pygments_lexer": "ipython3",
      "version": "3.12.4"
    }
  },
  "nbformat": 4,
  "nbformat_minor": 0
}
