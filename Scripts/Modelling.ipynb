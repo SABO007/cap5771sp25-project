{
  "cells": [
    {
      "cell_type": "markdown",
      "metadata": {},
      "source": [
        "### 1. Loading the Data"
      ]
    },
    {
      "cell_type": "code",
      "execution_count": 1,
      "metadata": {},
      "outputs": [],
      "source": [
        "import pandas as pd\n",
        "import numpy as np\n",
        "from sklearn.preprocessing import LabelEncoder, OneHotEncoder\n",
        "import matplotlib.pyplot as plt\n",
        "import seaborn as sns"
      ]
    },
    {
      "cell_type": "code",
      "execution_count": 2,
      "metadata": {},
      "outputs": [],
      "source": [
        "student_course_data = pd.read_csv('../Data/student_course_3000.csv')"
      ]
    },
    {
      "cell_type": "code",
      "execution_count": 3,
      "metadata": {},
      "outputs": [
        {
          "name": "stdout",
          "output_type": "stream",
          "text": [
            "<class 'pandas.core.frame.DataFrame'>\n",
            "RangeIndex: 3010 entries, 0 to 3009\n",
            "Data columns (total 17 columns):\n",
            " #   Column                 Non-Null Count  Dtype  \n",
            "---  ------                 --------------  -----  \n",
            " 0   student_id             3010 non-null   int64  \n",
            " 1   course_id              3010 non-null   object \n",
            " 2   similarity_score       3010 non-null   float64\n",
            " 3   Branch                 3010 non-null   object \n",
            " 4   Percentage_10th        3010 non-null   int64  \n",
            " 5   Percentage_12th        3010 non-null   int64  \n",
            " 6   Skills_x               1960 non-null   object \n",
            " 7   Career_Goal            3010 non-null   object \n",
            " 8   StudentId              3010 non-null   int64  \n",
            " 9   skills_processed_x     1960 non-null   object \n",
            " 10  career_goal_processed  3010 non-null   object \n",
            " 11  Title                  3010 non-null   object \n",
            " 12  Category               3010 non-null   object \n",
            " 13  Course Type            3010 non-null   object \n",
            " 14  Skills_y               3010 non-null   object \n",
            " 15  skills_processed_y     3010 non-null   object \n",
            " 16  category_processed     3010 non-null   object \n",
            "dtypes: float64(1), int64(4), object(12)\n",
            "memory usage: 399.9+ KB\n",
            "None\n"
          ]
        }
      ],
      "source": [
        "print(student_course_data.info())"
      ]
    },
    {
      "cell_type": "code",
      "execution_count": 4,
      "metadata": {},
      "outputs": [
        {
          "name": "stdout",
          "output_type": "stream",
          "text": [
            "Student Course Data:\n"
          ]
        },
        {
          "data": {
            "text/html": [
              "<div>\n",
              "<style scoped>\n",
              "    .dataframe tbody tr th:only-of-type {\n",
              "        vertical-align: middle;\n",
              "    }\n",
              "\n",
              "    .dataframe tbody tr th {\n",
              "        vertical-align: top;\n",
              "    }\n",
              "\n",
              "    .dataframe thead th {\n",
              "        text-align: right;\n",
              "    }\n",
              "</style>\n",
              "<table border=\"1\" class=\"dataframe\">\n",
              "  <thead>\n",
              "    <tr style=\"text-align: right;\">\n",
              "      <th></th>\n",
              "      <th>student_id</th>\n",
              "      <th>course_id</th>\n",
              "      <th>similarity_score</th>\n",
              "      <th>Branch</th>\n",
              "      <th>Percentage_10th</th>\n",
              "      <th>Percentage_12th</th>\n",
              "      <th>Skills_x</th>\n",
              "      <th>Career_Goal</th>\n",
              "      <th>StudentId</th>\n",
              "      <th>skills_processed_x</th>\n",
              "      <th>career_goal_processed</th>\n",
              "      <th>Title</th>\n",
              "      <th>Category</th>\n",
              "      <th>Course Type</th>\n",
              "      <th>Skills_y</th>\n",
              "      <th>skills_processed_y</th>\n",
              "      <th>category_processed</th>\n",
              "    </tr>\n",
              "  </thead>\n",
              "  <tbody>\n",
              "    <tr>\n",
              "      <th>0</th>\n",
              "      <td>83</td>\n",
              "      <td>google_data_analytics_capstone_complete_a_case...</td>\n",
              "      <td>0.198736</td>\n",
              "      <td>MCA</td>\n",
              "      <td>75</td>\n",
              "      <td>65</td>\n",
              "      <td>HTML, CSS, JavaScript, React, Node.js, Angular...</td>\n",
              "      <td>Web Developer</td>\n",
              "      <td>83</td>\n",
              "      <td>html css javascript react nodejs angular apis ...</td>\n",
              "      <td>web developer</td>\n",
              "      <td>Google Data Analytics Capstone: Complete a Cas...</td>\n",
              "      <td>Data Science</td>\n",
              "      <td>Course</td>\n",
              "      <td>Job portfolio,Data Cleansing,Data Analysis,Dat...</td>\n",
              "      <td>job portfoliodata cleansingdata analysisdata v...</td>\n",
              "      <td>data science</td>\n",
              "    </tr>\n",
              "    <tr>\n",
              "      <th>1</th>\n",
              "      <td>17</td>\n",
              "      <td>1mindfulness_in_integrative_healthcare</td>\n",
              "      <td>0.198479</td>\n",
              "      <td>CSIT</td>\n",
              "      <td>85</td>\n",
              "      <td>75</td>\n",
              "      <td>HTML, CSS, JavaScript, React, Node.js, Angular...</td>\n",
              "      <td>Web Developer</td>\n",
              "      <td>17</td>\n",
              "      <td>html css javascript react nodejs angular apis ...</td>\n",
              "      <td>web developer</td>\n",
              "      <td>Mindfulness in Integrative Healthcare</td>\n",
              "      <td>Health</td>\n",
              "      <td>Course</td>\n",
              "      <td>wellbeing,improved symptom management,whole-pe...</td>\n",
              "      <td>wellbeingimproved symptom managementwholeperso...</td>\n",
              "      <td>health</td>\n",
              "    </tr>\n",
              "    <tr>\n",
              "      <th>2</th>\n",
              "      <td>83</td>\n",
              "      <td>web_design_for_everybody_basics_of_web_develop...</td>\n",
              "      <td>0.411329</td>\n",
              "      <td>MCA</td>\n",
              "      <td>75</td>\n",
              "      <td>65</td>\n",
              "      <td>HTML, CSS, JavaScript, React, Node.js, Angular...</td>\n",
              "      <td>Web Developer</td>\n",
              "      <td>83</td>\n",
              "      <td>html css javascript react nodejs angular apis ...</td>\n",
              "      <td>web developer</td>\n",
              "      <td>Web Design for Everybody: Basics of Web Develo...</td>\n",
              "      <td>Computer Science</td>\n",
              "      <td>Specialization</td>\n",
              "      <td>Web Development, Cascading Style Sheets (CSS),...</td>\n",
              "      <td>web development cascading style sheets css htm...</td>\n",
              "      <td>computer science</td>\n",
              "    </tr>\n",
              "    <tr>\n",
              "      <th>3</th>\n",
              "      <td>2</td>\n",
              "      <td>ethical_issues_in_data_science</td>\n",
              "      <td>0.613531</td>\n",
              "      <td>CSIT</td>\n",
              "      <td>85</td>\n",
              "      <td>95</td>\n",
              "      <td>Python, R, Data Analysis, Machine Learning, SQ...</td>\n",
              "      <td>Data Scientist</td>\n",
              "      <td>2</td>\n",
              "      <td>python r data analysis machine learning sql da...</td>\n",
              "      <td>data scientist</td>\n",
              "      <td>Ethical Issues in Data Science</td>\n",
              "      <td>Data Science</td>\n",
              "      <td>Course</td>\n",
              "      <td>Data Science,Ethics,Algorithms,Privacy,Philoso...</td>\n",
              "      <td>data scienceethicsalgorithmsprivacyphilosophy</td>\n",
              "      <td>data science</td>\n",
              "    </tr>\n",
              "    <tr>\n",
              "      <th>4</th>\n",
              "      <td>40</td>\n",
              "      <td>introduction_to_programming_with_python_and_ja...</td>\n",
              "      <td>0.219441</td>\n",
              "      <td>CSME</td>\n",
              "      <td>85</td>\n",
              "      <td>75</td>\n",
              "      <td>Automation Systems, PLC Programming, Control S...</td>\n",
              "      <td>Automation Engineer</td>\n",
              "      <td>40</td>\n",
              "      <td>automation systems plc programming control sys...</td>\n",
              "      <td>automation engineer</td>\n",
              "      <td>Introduction to Programming with Python and Ja...</td>\n",
              "      <td>Computer Science</td>\n",
              "      <td>Specialization</td>\n",
              "      <td>Programming Principles, Python Programming, Ja...</td>\n",
              "      <td>programming principles python programming java...</td>\n",
              "      <td>computer science</td>\n",
              "    </tr>\n",
              "  </tbody>\n",
              "</table>\n",
              "</div>"
            ],
            "text/plain": [
              "   student_id                                          course_id  \\\n",
              "0          83  google_data_analytics_capstone_complete_a_case...   \n",
              "1          17             1mindfulness_in_integrative_healthcare   \n",
              "2          83  web_design_for_everybody_basics_of_web_develop...   \n",
              "3           2                     ethical_issues_in_data_science   \n",
              "4          40  introduction_to_programming_with_python_and_ja...   \n",
              "\n",
              "   similarity_score Branch  Percentage_10th  Percentage_12th  \\\n",
              "0          0.198736    MCA               75               65   \n",
              "1          0.198479   CSIT               85               75   \n",
              "2          0.411329    MCA               75               65   \n",
              "3          0.613531   CSIT               85               95   \n",
              "4          0.219441   CSME               85               75   \n",
              "\n",
              "                                            Skills_x          Career_Goal  \\\n",
              "0  HTML, CSS, JavaScript, React, Node.js, Angular...        Web Developer   \n",
              "1  HTML, CSS, JavaScript, React, Node.js, Angular...        Web Developer   \n",
              "2  HTML, CSS, JavaScript, React, Node.js, Angular...        Web Developer   \n",
              "3  Python, R, Data Analysis, Machine Learning, SQ...       Data Scientist   \n",
              "4  Automation Systems, PLC Programming, Control S...  Automation Engineer   \n",
              "\n",
              "   StudentId                                 skills_processed_x  \\\n",
              "0         83  html css javascript react nodejs angular apis ...   \n",
              "1         17  html css javascript react nodejs angular apis ...   \n",
              "2         83  html css javascript react nodejs angular apis ...   \n",
              "3          2  python r data analysis machine learning sql da...   \n",
              "4         40  automation systems plc programming control sys...   \n",
              "\n",
              "  career_goal_processed                                              Title  \\\n",
              "0         web developer  Google Data Analytics Capstone: Complete a Cas...   \n",
              "1         web developer              Mindfulness in Integrative Healthcare   \n",
              "2         web developer  Web Design for Everybody: Basics of Web Develo...   \n",
              "3        data scientist                     Ethical Issues in Data Science   \n",
              "4   automation engineer  Introduction to Programming with Python and Ja...   \n",
              "\n",
              "           Category     Course Type  \\\n",
              "0      Data Science          Course   \n",
              "1            Health          Course   \n",
              "2  Computer Science  Specialization   \n",
              "3      Data Science          Course   \n",
              "4  Computer Science  Specialization   \n",
              "\n",
              "                                            Skills_y  \\\n",
              "0  Job portfolio,Data Cleansing,Data Analysis,Dat...   \n",
              "1  wellbeing,improved symptom management,whole-pe...   \n",
              "2  Web Development, Cascading Style Sheets (CSS),...   \n",
              "3  Data Science,Ethics,Algorithms,Privacy,Philoso...   \n",
              "4  Programming Principles, Python Programming, Ja...   \n",
              "\n",
              "                                  skills_processed_y category_processed  \n",
              "0  job portfoliodata cleansingdata analysisdata v...       data science  \n",
              "1  wellbeingimproved symptom managementwholeperso...             health  \n",
              "2  web development cascading style sheets css htm...   computer science  \n",
              "3      data scienceethicsalgorithmsprivacyphilosophy       data science  \n",
              "4  programming principles python programming java...   computer science  "
            ]
          },
          "metadata": {},
          "output_type": "display_data"
        }
      ],
      "source": [
        "print(\"Student Course Data:\")\n",
        "display(student_course_data.head())"
      ]
    },
    {
      "cell_type": "markdown",
      "metadata": {},
      "source": [
        "#### Preprocessing"
      ]
    },
    {
      "cell_type": "code",
      "execution_count": 5,
      "metadata": {},
      "outputs": [
        {
          "data": {
            "text/plain": [
              "Index(['student_id', 'course_id', 'similarity_score', 'Branch',\n",
              "       'Percentage_10th', 'Percentage_12th', 'Skills_x', 'Career_Goal',\n",
              "       'StudentId', 'skills_processed_x', 'career_goal_processed', 'Title',\n",
              "       'Category', 'Course Type', 'Skills_y', 'skills_processed_y',\n",
              "       'category_processed'],\n",
              "      dtype='object')"
            ]
          },
          "execution_count": 5,
          "metadata": {},
          "output_type": "execute_result"
        }
      ],
      "source": [
        "student_course_data.columns"
      ]
    },
    {
      "cell_type": "code",
      "execution_count": 6,
      "metadata": {},
      "outputs": [],
      "source": [
        "student_course_data.drop(['student_id', 'course_id', 'similarity_score', 'skills_processed_x', 'Skills_x', 'Career_Goal', 'Skills_y', 'StudentId', 'category_processed'], axis=1, inplace=True)"
      ]
    },
    {
      "cell_type": "code",
      "execution_count": 7,
      "metadata": {},
      "outputs": [],
      "source": [
        "student_course_data['Skills'] = student_course_data['skills_processed_y']\n",
        "student_course_data.drop(['skills_processed_y'], axis=1, inplace=True)\n",
        "\n",
        "student_course_data['Career_Goal'] = student_course_data['career_goal_processed']\n",
        "student_course_data.drop(['career_goal_processed'], axis=1, inplace=True)"
      ]
    },
    {
      "cell_type": "code",
      "execution_count": 8,
      "metadata": {},
      "outputs": [
        {
          "data": {
            "text/plain": [
              "Index(['Branch', 'Percentage_10th', 'Percentage_12th', 'Title', 'Category',\n",
              "       'Course Type', 'Skills', 'Career_Goal'],\n",
              "      dtype='object')"
            ]
          },
          "execution_count": 8,
          "metadata": {},
          "output_type": "execute_result"
        }
      ],
      "source": [
        "student_course_data.columns"
      ]
    },
    {
      "cell_type": "code",
      "execution_count": 9,
      "metadata": {},
      "outputs": [],
      "source": [
        "student_course_data = student_course_data[['Branch', 'Percentage_10th', 'Percentage_12th', 'Career_Goal',  'Course Type', 'Skills', 'Category', 'Title']]"
      ]
    },
    {
      "cell_type": "code",
      "execution_count": 10,
      "metadata": {},
      "outputs": [
        {
          "data": {
            "text/plain": [
              "Branch             0\n",
              "Percentage_10th    0\n",
              "Percentage_12th    0\n",
              "Career_Goal        0\n",
              "Course Type        0\n",
              "Skills             0\n",
              "Category           0\n",
              "Title              0\n",
              "dtype: int64"
            ]
          },
          "execution_count": 10,
          "metadata": {},
          "output_type": "execute_result"
        }
      ],
      "source": [
        "student_course_data.isnull().sum()"
      ]
    },
    {
      "cell_type": "code",
      "execution_count": 11,
      "metadata": {},
      "outputs": [],
      "source": [
        "student_course_data.dropna(inplace=True)"
      ]
    },
    {
      "cell_type": "code",
      "execution_count": 12,
      "metadata": {},
      "outputs": [
        {
          "data": {
            "text/html": [
              "<div>\n",
              "<style scoped>\n",
              "    .dataframe tbody tr th:only-of-type {\n",
              "        vertical-align: middle;\n",
              "    }\n",
              "\n",
              "    .dataframe tbody tr th {\n",
              "        vertical-align: top;\n",
              "    }\n",
              "\n",
              "    .dataframe thead th {\n",
              "        text-align: right;\n",
              "    }\n",
              "</style>\n",
              "<table border=\"1\" class=\"dataframe\">\n",
              "  <thead>\n",
              "    <tr style=\"text-align: right;\">\n",
              "      <th></th>\n",
              "      <th>Branch</th>\n",
              "      <th>Percentage_10th</th>\n",
              "      <th>Percentage_12th</th>\n",
              "      <th>Career_Goal</th>\n",
              "      <th>Course Type</th>\n",
              "      <th>Skills</th>\n",
              "      <th>Category</th>\n",
              "      <th>Title</th>\n",
              "    </tr>\n",
              "  </thead>\n",
              "  <tbody>\n",
              "    <tr>\n",
              "      <th>0</th>\n",
              "      <td>MCA</td>\n",
              "      <td>75</td>\n",
              "      <td>65</td>\n",
              "      <td>web developer</td>\n",
              "      <td>Course</td>\n",
              "      <td>job portfoliodata cleansingdata analysisdata v...</td>\n",
              "      <td>Data Science</td>\n",
              "      <td>Google Data Analytics Capstone: Complete a Cas...</td>\n",
              "    </tr>\n",
              "    <tr>\n",
              "      <th>1</th>\n",
              "      <td>CSIT</td>\n",
              "      <td>85</td>\n",
              "      <td>75</td>\n",
              "      <td>web developer</td>\n",
              "      <td>Course</td>\n",
              "      <td>wellbeingimproved symptom managementwholeperso...</td>\n",
              "      <td>Health</td>\n",
              "      <td>Mindfulness in Integrative Healthcare</td>\n",
              "    </tr>\n",
              "    <tr>\n",
              "      <th>2</th>\n",
              "      <td>MCA</td>\n",
              "      <td>75</td>\n",
              "      <td>65</td>\n",
              "      <td>web developer</td>\n",
              "      <td>Specialization</td>\n",
              "      <td>web development cascading style sheets css htm...</td>\n",
              "      <td>Computer Science</td>\n",
              "      <td>Web Design for Everybody: Basics of Web Develo...</td>\n",
              "    </tr>\n",
              "    <tr>\n",
              "      <th>3</th>\n",
              "      <td>CSIT</td>\n",
              "      <td>85</td>\n",
              "      <td>95</td>\n",
              "      <td>data scientist</td>\n",
              "      <td>Course</td>\n",
              "      <td>data scienceethicsalgorithmsprivacyphilosophy</td>\n",
              "      <td>Data Science</td>\n",
              "      <td>Ethical Issues in Data Science</td>\n",
              "    </tr>\n",
              "    <tr>\n",
              "      <th>4</th>\n",
              "      <td>CSME</td>\n",
              "      <td>85</td>\n",
              "      <td>75</td>\n",
              "      <td>automation engineer</td>\n",
              "      <td>Specialization</td>\n",
              "      <td>programming principles python programming java...</td>\n",
              "      <td>Computer Science</td>\n",
              "      <td>Introduction to Programming with Python and Ja...</td>\n",
              "    </tr>\n",
              "  </tbody>\n",
              "</table>\n",
              "</div>"
            ],
            "text/plain": [
              "  Branch  Percentage_10th  Percentage_12th          Career_Goal  \\\n",
              "0    MCA               75               65        web developer   \n",
              "1   CSIT               85               75        web developer   \n",
              "2    MCA               75               65        web developer   \n",
              "3   CSIT               85               95       data scientist   \n",
              "4   CSME               85               75  automation engineer   \n",
              "\n",
              "      Course Type                                             Skills  \\\n",
              "0          Course  job portfoliodata cleansingdata analysisdata v...   \n",
              "1          Course  wellbeingimproved symptom managementwholeperso...   \n",
              "2  Specialization  web development cascading style sheets css htm...   \n",
              "3          Course      data scienceethicsalgorithmsprivacyphilosophy   \n",
              "4  Specialization  programming principles python programming java...   \n",
              "\n",
              "           Category                                              Title  \n",
              "0      Data Science  Google Data Analytics Capstone: Complete a Cas...  \n",
              "1            Health              Mindfulness in Integrative Healthcare  \n",
              "2  Computer Science  Web Design for Everybody: Basics of Web Develo...  \n",
              "3      Data Science                     Ethical Issues in Data Science  \n",
              "4  Computer Science  Introduction to Programming with Python and Ja...  "
            ]
          },
          "execution_count": 12,
          "metadata": {},
          "output_type": "execute_result"
        }
      ],
      "source": [
        "student_course_data.head()"
      ]
    },
    {
      "cell_type": "code",
      "execution_count": 13,
      "metadata": {},
      "outputs": [],
      "source": [
        "student_course_data.to_csv('../Data/final_student_course.csv', index=False)"
      ]
    },
    {
      "cell_type": "markdown",
      "metadata": {},
      "source": [
        "### 2. Feature Engineering"
      ]
    },
    {
      "cell_type": "code",
      "execution_count": 14,
      "metadata": {},
      "outputs": [],
      "source": [
        "import pandas as pd\n",
        "import numpy as np\n",
        "import matplotlib.pyplot as plt\n",
        "import seaborn as sns\n",
        "from sklearn.preprocessing import LabelEncoder, OneHotEncoder, StandardScaler\n",
        "from sklearn.model_selection import train_test_split, cross_val_score\n",
        "from sklearn.feature_selection import SelectKBest, chi2, mutual_info_classif\n",
        "from sklearn.linear_model import LogisticRegression\n",
        "from sklearn.tree import DecisionTreeClassifier\n",
        "from sklearn.ensemble import RandomForestClassifier\n",
        "from sklearn.svm import SVC\n",
        "from sklearn.metrics import accuracy_score, precision_score, recall_score, f1_score, confusion_matrix, classification_report, roc_curve, auc\n",
        "import joblib\n",
        "import warnings\n",
        "warnings.filterwarnings('ignore')"
      ]
    },
    {
      "cell_type": "code",
      "execution_count": 15,
      "metadata": {},
      "outputs": [],
      "source": [
        "data = pd.read_csv('../Data/final_student_course.csv')"
      ]
    },
    {
      "cell_type": "code",
      "execution_count": 16,
      "metadata": {},
      "outputs": [
        {
          "data": {
            "text/html": [
              "<div>\n",
              "<style scoped>\n",
              "    .dataframe tbody tr th:only-of-type {\n",
              "        vertical-align: middle;\n",
              "    }\n",
              "\n",
              "    .dataframe tbody tr th {\n",
              "        vertical-align: top;\n",
              "    }\n",
              "\n",
              "    .dataframe thead th {\n",
              "        text-align: right;\n",
              "    }\n",
              "</style>\n",
              "<table border=\"1\" class=\"dataframe\">\n",
              "  <thead>\n",
              "    <tr style=\"text-align: right;\">\n",
              "      <th></th>\n",
              "      <th>Branch</th>\n",
              "      <th>Percentage_10th</th>\n",
              "      <th>Percentage_12th</th>\n",
              "      <th>Career_Goal</th>\n",
              "      <th>Course Type</th>\n",
              "      <th>Skills</th>\n",
              "      <th>Category</th>\n",
              "      <th>Title</th>\n",
              "    </tr>\n",
              "  </thead>\n",
              "  <tbody>\n",
              "    <tr>\n",
              "      <th>0</th>\n",
              "      <td>MCA</td>\n",
              "      <td>75</td>\n",
              "      <td>65</td>\n",
              "      <td>web developer</td>\n",
              "      <td>Course</td>\n",
              "      <td>job portfoliodata cleansingdata analysisdata v...</td>\n",
              "      <td>Data Science</td>\n",
              "      <td>Google Data Analytics Capstone: Complete a Cas...</td>\n",
              "    </tr>\n",
              "    <tr>\n",
              "      <th>1</th>\n",
              "      <td>CSIT</td>\n",
              "      <td>85</td>\n",
              "      <td>75</td>\n",
              "      <td>web developer</td>\n",
              "      <td>Course</td>\n",
              "      <td>wellbeingimproved symptom managementwholeperso...</td>\n",
              "      <td>Health</td>\n",
              "      <td>Mindfulness in Integrative Healthcare</td>\n",
              "    </tr>\n",
              "    <tr>\n",
              "      <th>2</th>\n",
              "      <td>MCA</td>\n",
              "      <td>75</td>\n",
              "      <td>65</td>\n",
              "      <td>web developer</td>\n",
              "      <td>Specialization</td>\n",
              "      <td>web development cascading style sheets css htm...</td>\n",
              "      <td>Computer Science</td>\n",
              "      <td>Web Design for Everybody: Basics of Web Develo...</td>\n",
              "    </tr>\n",
              "    <tr>\n",
              "      <th>3</th>\n",
              "      <td>CSIT</td>\n",
              "      <td>85</td>\n",
              "      <td>95</td>\n",
              "      <td>data scientist</td>\n",
              "      <td>Course</td>\n",
              "      <td>data scienceethicsalgorithmsprivacyphilosophy</td>\n",
              "      <td>Data Science</td>\n",
              "      <td>Ethical Issues in Data Science</td>\n",
              "    </tr>\n",
              "    <tr>\n",
              "      <th>4</th>\n",
              "      <td>CSME</td>\n",
              "      <td>85</td>\n",
              "      <td>75</td>\n",
              "      <td>automation engineer</td>\n",
              "      <td>Specialization</td>\n",
              "      <td>programming principles python programming java...</td>\n",
              "      <td>Computer Science</td>\n",
              "      <td>Introduction to Programming with Python and Ja...</td>\n",
              "    </tr>\n",
              "  </tbody>\n",
              "</table>\n",
              "</div>"
            ],
            "text/plain": [
              "  Branch  Percentage_10th  Percentage_12th          Career_Goal  \\\n",
              "0    MCA               75               65        web developer   \n",
              "1   CSIT               85               75        web developer   \n",
              "2    MCA               75               65        web developer   \n",
              "3   CSIT               85               95       data scientist   \n",
              "4   CSME               85               75  automation engineer   \n",
              "\n",
              "      Course Type                                             Skills  \\\n",
              "0          Course  job portfoliodata cleansingdata analysisdata v...   \n",
              "1          Course  wellbeingimproved symptom managementwholeperso...   \n",
              "2  Specialization  web development cascading style sheets css htm...   \n",
              "3          Course      data scienceethicsalgorithmsprivacyphilosophy   \n",
              "4  Specialization  programming principles python programming java...   \n",
              "\n",
              "           Category                                              Title  \n",
              "0      Data Science  Google Data Analytics Capstone: Complete a Cas...  \n",
              "1            Health              Mindfulness in Integrative Healthcare  \n",
              "2  Computer Science  Web Design for Everybody: Basics of Web Develo...  \n",
              "3      Data Science                     Ethical Issues in Data Science  \n",
              "4  Computer Science  Introduction to Programming with Python and Ja...  "
            ]
          },
          "execution_count": 16,
          "metadata": {},
          "output_type": "execute_result"
        }
      ],
      "source": [
        "data.head()"
      ]
    },
    {
      "cell_type": "code",
      "execution_count": 17,
      "metadata": {},
      "outputs": [],
      "source": [
        "data = pd.read_csv('../Data/final_student_course.csv')\n",
        "\n",
        "data = data.drop(['Title', 'Career_Goal'], axis=1)"
      ]
    },
    {
      "cell_type": "markdown",
      "metadata": {},
      "source": [
        "#### Check for missing values\n"
      ]
    },
    {
      "cell_type": "code",
      "execution_count": 20,
      "metadata": {},
      "outputs": [
        {
          "name": "stdout",
          "output_type": "stream",
          "text": [
            "\n",
            "Missing Values:\n",
            "Branch             0\n",
            "Percentage_10th    0\n",
            "Percentage_12th    0\n",
            "Course Type        0\n",
            "Skills             0\n",
            "Category           0\n",
            "dtype: int64\n"
          ]
        }
      ],
      "source": [
        "print(\"\\nMissing Values:\")\n",
        "print(data.isnull().sum())"
      ]
    },
    {
      "cell_type": "code",
      "execution_count": 21,
      "metadata": {},
      "outputs": [
        {
          "data": {
            "text/html": [
              "<div>\n",
              "<style scoped>\n",
              "    .dataframe tbody tr th:only-of-type {\n",
              "        vertical-align: middle;\n",
              "    }\n",
              "\n",
              "    .dataframe tbody tr th {\n",
              "        vertical-align: top;\n",
              "    }\n",
              "\n",
              "    .dataframe thead th {\n",
              "        text-align: right;\n",
              "    }\n",
              "</style>\n",
              "<table border=\"1\" class=\"dataframe\">\n",
              "  <thead>\n",
              "    <tr style=\"text-align: right;\">\n",
              "      <th></th>\n",
              "      <th>Branch</th>\n",
              "      <th>Percentage_10th</th>\n",
              "      <th>Percentage_12th</th>\n",
              "      <th>Course Type</th>\n",
              "      <th>Skills</th>\n",
              "      <th>Category</th>\n",
              "    </tr>\n",
              "  </thead>\n",
              "  <tbody>\n",
              "    <tr>\n",
              "      <th>0</th>\n",
              "      <td>MCA</td>\n",
              "      <td>75</td>\n",
              "      <td>65</td>\n",
              "      <td>Course</td>\n",
              "      <td>job portfoliodata cleansingdata analysisdata v...</td>\n",
              "      <td>Data Science</td>\n",
              "    </tr>\n",
              "    <tr>\n",
              "      <th>1</th>\n",
              "      <td>CSIT</td>\n",
              "      <td>85</td>\n",
              "      <td>75</td>\n",
              "      <td>Course</td>\n",
              "      <td>wellbeingimproved symptom managementwholeperso...</td>\n",
              "      <td>Health</td>\n",
              "    </tr>\n",
              "    <tr>\n",
              "      <th>2</th>\n",
              "      <td>MCA</td>\n",
              "      <td>75</td>\n",
              "      <td>65</td>\n",
              "      <td>Specialization</td>\n",
              "      <td>web development cascading style sheets css htm...</td>\n",
              "      <td>Computer Science</td>\n",
              "    </tr>\n",
              "    <tr>\n",
              "      <th>3</th>\n",
              "      <td>CSIT</td>\n",
              "      <td>85</td>\n",
              "      <td>95</td>\n",
              "      <td>Course</td>\n",
              "      <td>data scienceethicsalgorithmsprivacyphilosophy</td>\n",
              "      <td>Data Science</td>\n",
              "    </tr>\n",
              "    <tr>\n",
              "      <th>4</th>\n",
              "      <td>CSME</td>\n",
              "      <td>85</td>\n",
              "      <td>75</td>\n",
              "      <td>Specialization</td>\n",
              "      <td>programming principles python programming java...</td>\n",
              "      <td>Computer Science</td>\n",
              "    </tr>\n",
              "  </tbody>\n",
              "</table>\n",
              "</div>"
            ],
            "text/plain": [
              "  Branch  Percentage_10th  Percentage_12th     Course Type  \\\n",
              "0    MCA               75               65          Course   \n",
              "1   CSIT               85               75          Course   \n",
              "2    MCA               75               65  Specialization   \n",
              "3   CSIT               85               95          Course   \n",
              "4   CSME               85               75  Specialization   \n",
              "\n",
              "                                              Skills          Category  \n",
              "0  job portfoliodata cleansingdata analysisdata v...      Data Science  \n",
              "1  wellbeingimproved symptom managementwholeperso...            Health  \n",
              "2  web development cascading style sheets css htm...  Computer Science  \n",
              "3      data scienceethicsalgorithmsprivacyphilosophy      Data Science  \n",
              "4  programming principles python programming java...  Computer Science  "
            ]
          },
          "execution_count": 21,
          "metadata": {},
          "output_type": "execute_result"
        }
      ],
      "source": [
        "data.head()"
      ]
    },
    {
      "cell_type": "code",
      "execution_count": 22,
      "metadata": {},
      "outputs": [
        {
          "data": {
            "text/plain": [
              "Category\n",
              "Data Science                        1242\n",
              "Computer Science                     636\n",
              "Business                             472\n",
              "Information Technology               234\n",
              "Health                               113\n",
              "Physical Science and Engineering      99\n",
              "Language Learning                     66\n",
              "Arts and Humanities                   52\n",
              "Social Sciences                       49\n",
              "Personal Development                  37\n",
              "Math and Logic                         5\n",
              "Negócios                               2\n",
              "Ciencias de la Computación             1\n",
              "Tecnologia da informação               1\n",
              "Ciencia de Datos                       1\n",
              "Name: count, dtype: int64"
            ]
          },
          "execution_count": 22,
          "metadata": {},
          "output_type": "execute_result"
        }
      ],
      "source": [
        "data['Category'].unique()\n",
        "data['Category'].value_counts()"
      ]
    },
    {
      "cell_type": "code",
      "execution_count": 25,
      "metadata": {},
      "outputs": [],
      "source": [
        "top_categories = data['Category'].value_counts().nlargest(5).index\n",
        "top_branches = data['Branch'].value_counts().nlargest(5).index\n",
        "\n",
        "df = data[\n",
        "    (data['Category'].isin(top_categories)) &\n",
        "    (data['Branch'].isin(top_branches))\n",
        "]\n",
        "df.reset_index(drop=True, inplace=True)"
      ]
    },
    {
      "cell_type": "code",
      "execution_count": 28,
      "metadata": {},
      "outputs": [],
      "source": [
        "df.to_csv('../Data/final_student_course_top_categories.csv', index=False)"
      ]
    },
    {
      "cell_type": "markdown",
      "metadata": {},
      "source": [
        "#### Feature 1: Skills count - number of skills mentioned\n"
      ]
    },
    {
      "cell_type": "code",
      "execution_count": 29,
      "metadata": {},
      "outputs": [
        {
          "name": "stdout",
          "output_type": "stream",
          "text": [
            "\n",
            "New Feature 1 - Skills count:\n",
            "                                              Skills  Skills_Count\n",
            "0  job portfoliodata cleansingdata analysisdata v...             7\n",
            "1  wellbeingimproved symptom managementwholeperso...             5\n",
            "2  web development cascading style sheets css htm...            25\n",
            "3      data scienceethicsalgorithmsprivacyphilosophy             2\n",
            "4  python programmingmachine learning conceptsmac...             6\n"
          ]
        }
      ],
      "source": [
        "df['Skills_Count'] = df['Skills'].apply(lambda x: len(x.split(' ')))\n",
        "print(\"\\nNew Feature 1 - Skills count:\")\n",
        "print(df[['Skills', 'Skills_Count']].head())\n"
      ]
    },
    {
      "cell_type": "markdown",
      "metadata": {},
      "source": [
        "#### Feature 2: Academic Performance Score - weighted average of 10th and 12th percentages\n"
      ]
    },
    {
      "cell_type": "code",
      "execution_count": 30,
      "metadata": {},
      "outputs": [
        {
          "name": "stdout",
          "output_type": "stream",
          "text": [
            "\n",
            "New Feature 2 - Academic Score:\n",
            "   Percentage_10th  Percentage_12th  Academic_Score\n",
            "0               75               65            69.0\n",
            "1               85               75            79.0\n",
            "2               75               65            69.0\n",
            "3               85               95            91.0\n",
            "4               85               85            85.0\n"
          ]
        }
      ],
      "source": [
        "df['Academic_Score'] = 0.6*df['Percentage_12th'] + 0.4*df['Percentage_10th']\n",
        "print(\"\\nNew Feature 2 - Academic Score:\")\n",
        "print(df[['Percentage_10th', 'Percentage_12th', 'Academic_Score']].head())"
      ]
    },
    {
      "cell_type": "markdown",
      "metadata": {},
      "source": [
        "#### Feature 3: Performance Gap - difference between 12th and 10th percentages"
      ]
    },
    {
      "cell_type": "code",
      "execution_count": 31,
      "metadata": {},
      "outputs": [
        {
          "name": "stdout",
          "output_type": "stream",
          "text": [
            "\n",
            "New Feature 3 - Performance Gap:\n",
            "   Percentage_10th  Percentage_12th  Performance_Gap\n",
            "0               75               65              -10\n",
            "1               85               75              -10\n",
            "2               75               65              -10\n",
            "3               85               95               10\n",
            "4               85               85                0\n"
          ]
        }
      ],
      "source": [
        "df['Performance_Gap'] = df['Percentage_12th'] - df['Percentage_10th']\n",
        "print(\"\\nNew Feature 3 - Performance Gap:\")\n",
        "print(df[['Percentage_10th', 'Percentage_12th', 'Performance_Gap']].head())"
      ]
    },
    {
      "cell_type": "markdown",
      "metadata": {},
      "source": [
        "#### Encoding data using Label Encoding"
      ]
    },
    {
      "cell_type": "code",
      "execution_count": 32,
      "metadata": {},
      "outputs": [],
      "source": [
        "label_encoder = LabelEncoder()\n",
        "df['Course_Type_Encoded'] = label_encoder.fit_transform(df['Course Type'])\n",
        "\n",
        "categorical_cols = ['Branch', 'Course Type', 'Category']\n",
        "label_encoders = {}\n",
        "for col in categorical_cols:\n",
        "    le = LabelEncoder()\n",
        "    df[col + '_Encoded'] = le.fit_transform(df[col])\n",
        "    label_encoders[col] = le \n",
        "\n",
        "df.drop(columns=categorical_cols, inplace=True)"
      ]
    },
    {
      "cell_type": "code",
      "execution_count": 33,
      "metadata": {},
      "outputs": [
        {
          "name": "stdout",
          "output_type": "stream",
          "text": [
            "   Percentage_10th  Percentage_12th  \\\n",
            "0               75               65   \n",
            "1               85               75   \n",
            "2               75               65   \n",
            "3               85               95   \n",
            "4               85               85   \n",
            "\n",
            "                                              Skills  Skills_Count  \\\n",
            "0  job portfoliodata cleansingdata analysisdata v...             7   \n",
            "1  wellbeingimproved symptom managementwholeperso...             5   \n",
            "2  web development cascading style sheets css htm...            25   \n",
            "3      data scienceethicsalgorithmsprivacyphilosophy             2   \n",
            "4  python programmingmachine learning conceptsmac...             6   \n",
            "\n",
            "   Academic_Score  Performance_Gap  Course_Type_Encoded  Branch_Encoded  \\\n",
            "0            69.0              -10                    0               4   \n",
            "1            79.0              -10                    0               1   \n",
            "2            69.0              -10                    3               4   \n",
            "3            91.0               10                    0               1   \n",
            "4            85.0                0                    0               0   \n",
            "\n",
            "   Course Type_Encoded  Category_Encoded  \n",
            "0                    0                 2  \n",
            "1                    0                 3  \n",
            "2                    3                 1  \n",
            "3                    0                 2  \n",
            "4                    0                 2  \n"
          ]
        }
      ],
      "source": [
        "print(df.head())"
      ]
    },
    {
      "cell_type": "markdown",
      "metadata": {},
      "source": [
        "#### Save label encoder"
      ]
    },
    {
      "cell_type": "code",
      "execution_count": 34,
      "metadata": {},
      "outputs": [
        {
          "data": {
            "text/plain": [
              "['../Models/label_encoders.pkl']"
            ]
          },
          "execution_count": 34,
          "metadata": {},
          "output_type": "execute_result"
        }
      ],
      "source": [
        "joblib.dump(label_encoders, '../Models/label_encoders.pkl')"
      ]
    },
    {
      "cell_type": "code",
      "execution_count": 35,
      "metadata": {},
      "outputs": [
        {
          "data": {
            "text/html": [
              "<div>\n",
              "<style scoped>\n",
              "    .dataframe tbody tr th:only-of-type {\n",
              "        vertical-align: middle;\n",
              "    }\n",
              "\n",
              "    .dataframe tbody tr th {\n",
              "        vertical-align: top;\n",
              "    }\n",
              "\n",
              "    .dataframe thead th {\n",
              "        text-align: right;\n",
              "    }\n",
              "</style>\n",
              "<table border=\"1\" class=\"dataframe\">\n",
              "  <thead>\n",
              "    <tr style=\"text-align: right;\">\n",
              "      <th></th>\n",
              "      <th>Percentage_10th</th>\n",
              "      <th>Percentage_12th</th>\n",
              "      <th>Skills</th>\n",
              "      <th>Skills_Count</th>\n",
              "      <th>Academic_Score</th>\n",
              "      <th>Performance_Gap</th>\n",
              "      <th>Course_Type_Encoded</th>\n",
              "      <th>Branch_Encoded</th>\n",
              "      <th>Course Type_Encoded</th>\n",
              "      <th>Category_Encoded</th>\n",
              "    </tr>\n",
              "  </thead>\n",
              "  <tbody>\n",
              "    <tr>\n",
              "      <th>0</th>\n",
              "      <td>75</td>\n",
              "      <td>65</td>\n",
              "      <td>job portfoliodata cleansingdata analysisdata v...</td>\n",
              "      <td>7</td>\n",
              "      <td>69.0</td>\n",
              "      <td>-10</td>\n",
              "      <td>0</td>\n",
              "      <td>4</td>\n",
              "      <td>0</td>\n",
              "      <td>2</td>\n",
              "    </tr>\n",
              "    <tr>\n",
              "      <th>1</th>\n",
              "      <td>85</td>\n",
              "      <td>75</td>\n",
              "      <td>wellbeingimproved symptom managementwholeperso...</td>\n",
              "      <td>5</td>\n",
              "      <td>79.0</td>\n",
              "      <td>-10</td>\n",
              "      <td>0</td>\n",
              "      <td>1</td>\n",
              "      <td>0</td>\n",
              "      <td>3</td>\n",
              "    </tr>\n",
              "    <tr>\n",
              "      <th>2</th>\n",
              "      <td>75</td>\n",
              "      <td>65</td>\n",
              "      <td>web development cascading style sheets css htm...</td>\n",
              "      <td>25</td>\n",
              "      <td>69.0</td>\n",
              "      <td>-10</td>\n",
              "      <td>3</td>\n",
              "      <td>4</td>\n",
              "      <td>3</td>\n",
              "      <td>1</td>\n",
              "    </tr>\n",
              "    <tr>\n",
              "      <th>3</th>\n",
              "      <td>85</td>\n",
              "      <td>95</td>\n",
              "      <td>data scienceethicsalgorithmsprivacyphilosophy</td>\n",
              "      <td>2</td>\n",
              "      <td>91.0</td>\n",
              "      <td>10</td>\n",
              "      <td>0</td>\n",
              "      <td>1</td>\n",
              "      <td>0</td>\n",
              "      <td>2</td>\n",
              "    </tr>\n",
              "    <tr>\n",
              "      <th>4</th>\n",
              "      <td>85</td>\n",
              "      <td>85</td>\n",
              "      <td>python programmingmachine learning conceptsmac...</td>\n",
              "      <td>6</td>\n",
              "      <td>85.0</td>\n",
              "      <td>0</td>\n",
              "      <td>0</td>\n",
              "      <td>0</td>\n",
              "      <td>0</td>\n",
              "      <td>2</td>\n",
              "    </tr>\n",
              "  </tbody>\n",
              "</table>\n",
              "</div>"
            ],
            "text/plain": [
              "   Percentage_10th  Percentage_12th  \\\n",
              "0               75               65   \n",
              "1               85               75   \n",
              "2               75               65   \n",
              "3               85               95   \n",
              "4               85               85   \n",
              "\n",
              "                                              Skills  Skills_Count  \\\n",
              "0  job portfoliodata cleansingdata analysisdata v...             7   \n",
              "1  wellbeingimproved symptom managementwholeperso...             5   \n",
              "2  web development cascading style sheets css htm...            25   \n",
              "3      data scienceethicsalgorithmsprivacyphilosophy             2   \n",
              "4  python programmingmachine learning conceptsmac...             6   \n",
              "\n",
              "   Academic_Score  Performance_Gap  Course_Type_Encoded  Branch_Encoded  \\\n",
              "0            69.0              -10                    0               4   \n",
              "1            79.0              -10                    0               1   \n",
              "2            69.0              -10                    3               4   \n",
              "3            91.0               10                    0               1   \n",
              "4            85.0                0                    0               0   \n",
              "\n",
              "   Course Type_Encoded  Category_Encoded  \n",
              "0                    0                 2  \n",
              "1                    0                 3  \n",
              "2                    3                 1  \n",
              "3                    0                 2  \n",
              "4                    0                 2  "
            ]
          },
          "execution_count": 35,
          "metadata": {},
          "output_type": "execute_result"
        }
      ],
      "source": [
        "df.head()"
      ]
    },
    {
      "cell_type": "code",
      "execution_count": 36,
      "metadata": {},
      "outputs": [],
      "source": [
        "df_encoded = df.copy()"
      ]
    },
    {
      "cell_type": "markdown",
      "metadata": {},
      "source": [
        "#### Vectorizing Skills feature for model training"
      ]
    },
    {
      "cell_type": "code",
      "execution_count": 37,
      "metadata": {},
      "outputs": [
        {
          "data": {
            "text/plain": [
              "Index(['Percentage_10th', 'Percentage_12th', 'Skills_Count', 'Academic_Score',\n",
              "       'Performance_Gap', 'Course_Type_Encoded', 'Branch_Encoded',\n",
              "       'Course Type_Encoded', 'Category_Encoded', 'ab',\n",
              "       ...\n",
              "       'wellness', 'wireless', 'work', 'workflow', 'workload', 'workloads',\n",
              "       'world', 'write', 'writing', 'xml'],\n",
              "      dtype='object', length=1009)"
            ]
          },
          "execution_count": 37,
          "metadata": {},
          "output_type": "execute_result"
        }
      ],
      "source": [
        "from sklearn.feature_extraction.text import TfidfVectorizer\n",
        "\n",
        "tfidf = TfidfVectorizer(stop_words='english', max_features=1000)\n",
        "\n",
        "Skills_tfidf = tfidf.fit_transform(df_encoded['Skills']).toarray()\n",
        "\n",
        "tfidf_df = pd.DataFrame(Skills_tfidf, columns=tfidf.get_feature_names_out())\n",
        "\n",
        "df_encoded = pd.concat([df.reset_index(drop=True), tfidf_df], axis=1)\n",
        "df_encoded.drop(columns=['Skills'], inplace=True)\n",
        "df_encoded.columns"
      ]
    },
    {
      "cell_type": "markdown",
      "metadata": {},
      "source": [
        "#### Save TFIDF vectorizer"
      ]
    },
    {
      "cell_type": "code",
      "execution_count": 38,
      "metadata": {},
      "outputs": [],
      "source": [
        "with open('../Models/tfidf_vectorizer.pkl', 'wb') as f:\n",
        "    joblib.dump(tfidf, f)"
      ]
    },
    {
      "cell_type": "code",
      "execution_count": 39,
      "metadata": {},
      "outputs": [
        {
          "data": {
            "text/html": [
              "<div>\n",
              "<style scoped>\n",
              "    .dataframe tbody tr th:only-of-type {\n",
              "        vertical-align: middle;\n",
              "    }\n",
              "\n",
              "    .dataframe tbody tr th {\n",
              "        vertical-align: top;\n",
              "    }\n",
              "\n",
              "    .dataframe thead th {\n",
              "        text-align: right;\n",
              "    }\n",
              "</style>\n",
              "<table border=\"1\" class=\"dataframe\">\n",
              "  <thead>\n",
              "    <tr style=\"text-align: right;\">\n",
              "      <th></th>\n",
              "      <th>Percentage_10th</th>\n",
              "      <th>Percentage_12th</th>\n",
              "      <th>Skills_Count</th>\n",
              "      <th>Academic_Score</th>\n",
              "      <th>Performance_Gap</th>\n",
              "      <th>Course_Type_Encoded</th>\n",
              "      <th>Branch_Encoded</th>\n",
              "      <th>Course Type_Encoded</th>\n",
              "      <th>Category_Encoded</th>\n",
              "      <th>ab</th>\n",
              "      <th>...</th>\n",
              "      <th>wellness</th>\n",
              "      <th>wireless</th>\n",
              "      <th>work</th>\n",
              "      <th>workflow</th>\n",
              "      <th>workload</th>\n",
              "      <th>workloads</th>\n",
              "      <th>world</th>\n",
              "      <th>write</th>\n",
              "      <th>writing</th>\n",
              "      <th>xml</th>\n",
              "    </tr>\n",
              "  </thead>\n",
              "  <tbody>\n",
              "    <tr>\n",
              "      <th>0</th>\n",
              "      <td>75</td>\n",
              "      <td>65</td>\n",
              "      <td>7</td>\n",
              "      <td>69.0</td>\n",
              "      <td>-10</td>\n",
              "      <td>0</td>\n",
              "      <td>4</td>\n",
              "      <td>0</td>\n",
              "      <td>2</td>\n",
              "      <td>0.0</td>\n",
              "      <td>...</td>\n",
              "      <td>0.0</td>\n",
              "      <td>0.0</td>\n",
              "      <td>0.0</td>\n",
              "      <td>0.0</td>\n",
              "      <td>0.0</td>\n",
              "      <td>0.0</td>\n",
              "      <td>0.0</td>\n",
              "      <td>0.0</td>\n",
              "      <td>0.0</td>\n",
              "      <td>0.0</td>\n",
              "    </tr>\n",
              "    <tr>\n",
              "      <th>1</th>\n",
              "      <td>85</td>\n",
              "      <td>75</td>\n",
              "      <td>5</td>\n",
              "      <td>79.0</td>\n",
              "      <td>-10</td>\n",
              "      <td>0</td>\n",
              "      <td>1</td>\n",
              "      <td>0</td>\n",
              "      <td>3</td>\n",
              "      <td>0.0</td>\n",
              "      <td>...</td>\n",
              "      <td>0.0</td>\n",
              "      <td>0.0</td>\n",
              "      <td>0.0</td>\n",
              "      <td>0.0</td>\n",
              "      <td>0.0</td>\n",
              "      <td>0.0</td>\n",
              "      <td>0.0</td>\n",
              "      <td>0.0</td>\n",
              "      <td>0.0</td>\n",
              "      <td>0.0</td>\n",
              "    </tr>\n",
              "    <tr>\n",
              "      <th>2</th>\n",
              "      <td>75</td>\n",
              "      <td>65</td>\n",
              "      <td>25</td>\n",
              "      <td>69.0</td>\n",
              "      <td>-10</td>\n",
              "      <td>3</td>\n",
              "      <td>4</td>\n",
              "      <td>3</td>\n",
              "      <td>1</td>\n",
              "      <td>0.0</td>\n",
              "      <td>...</td>\n",
              "      <td>0.0</td>\n",
              "      <td>0.0</td>\n",
              "      <td>0.0</td>\n",
              "      <td>0.0</td>\n",
              "      <td>0.0</td>\n",
              "      <td>0.0</td>\n",
              "      <td>0.0</td>\n",
              "      <td>0.0</td>\n",
              "      <td>0.0</td>\n",
              "      <td>0.0</td>\n",
              "    </tr>\n",
              "    <tr>\n",
              "      <th>3</th>\n",
              "      <td>85</td>\n",
              "      <td>95</td>\n",
              "      <td>2</td>\n",
              "      <td>91.0</td>\n",
              "      <td>10</td>\n",
              "      <td>0</td>\n",
              "      <td>1</td>\n",
              "      <td>0</td>\n",
              "      <td>2</td>\n",
              "      <td>0.0</td>\n",
              "      <td>...</td>\n",
              "      <td>0.0</td>\n",
              "      <td>0.0</td>\n",
              "      <td>0.0</td>\n",
              "      <td>0.0</td>\n",
              "      <td>0.0</td>\n",
              "      <td>0.0</td>\n",
              "      <td>0.0</td>\n",
              "      <td>0.0</td>\n",
              "      <td>0.0</td>\n",
              "      <td>0.0</td>\n",
              "    </tr>\n",
              "    <tr>\n",
              "      <th>4</th>\n",
              "      <td>85</td>\n",
              "      <td>85</td>\n",
              "      <td>6</td>\n",
              "      <td>85.0</td>\n",
              "      <td>0</td>\n",
              "      <td>0</td>\n",
              "      <td>0</td>\n",
              "      <td>0</td>\n",
              "      <td>2</td>\n",
              "      <td>0.0</td>\n",
              "      <td>...</td>\n",
              "      <td>0.0</td>\n",
              "      <td>0.0</td>\n",
              "      <td>0.0</td>\n",
              "      <td>0.0</td>\n",
              "      <td>0.0</td>\n",
              "      <td>0.0</td>\n",
              "      <td>0.0</td>\n",
              "      <td>0.0</td>\n",
              "      <td>0.0</td>\n",
              "      <td>0.0</td>\n",
              "    </tr>\n",
              "  </tbody>\n",
              "</table>\n",
              "<p>5 rows × 1009 columns</p>\n",
              "</div>"
            ],
            "text/plain": [
              "   Percentage_10th  Percentage_12th  Skills_Count  Academic_Score  \\\n",
              "0               75               65             7            69.0   \n",
              "1               85               75             5            79.0   \n",
              "2               75               65            25            69.0   \n",
              "3               85               95             2            91.0   \n",
              "4               85               85             6            85.0   \n",
              "\n",
              "   Performance_Gap  Course_Type_Encoded  Branch_Encoded  Course Type_Encoded  \\\n",
              "0              -10                    0               4                    0   \n",
              "1              -10                    0               1                    0   \n",
              "2              -10                    3               4                    3   \n",
              "3               10                    0               1                    0   \n",
              "4                0                    0               0                    0   \n",
              "\n",
              "   Category_Encoded   ab  ...  wellness  wireless  work  workflow  workload  \\\n",
              "0                 2  0.0  ...       0.0       0.0   0.0       0.0       0.0   \n",
              "1                 3  0.0  ...       0.0       0.0   0.0       0.0       0.0   \n",
              "2                 1  0.0  ...       0.0       0.0   0.0       0.0       0.0   \n",
              "3                 2  0.0  ...       0.0       0.0   0.0       0.0       0.0   \n",
              "4                 2  0.0  ...       0.0       0.0   0.0       0.0       0.0   \n",
              "\n",
              "   workloads  world  write  writing  xml  \n",
              "0        0.0    0.0    0.0      0.0  0.0  \n",
              "1        0.0    0.0    0.0      0.0  0.0  \n",
              "2        0.0    0.0    0.0      0.0  0.0  \n",
              "3        0.0    0.0    0.0      0.0  0.0  \n",
              "4        0.0    0.0    0.0      0.0  0.0  \n",
              "\n",
              "[5 rows x 1009 columns]"
            ]
          },
          "execution_count": 39,
          "metadata": {},
          "output_type": "execute_result"
        }
      ],
      "source": [
        "df_encoded.head()"
      ]
    },
    {
      "cell_type": "markdown",
      "metadata": {},
      "source": [
        "#### Independent and Depndent variable split"
      ]
    },
    {
      "cell_type": "code",
      "execution_count": 40,
      "metadata": {},
      "outputs": [
        {
          "data": {
            "text/plain": [
              "(2417, 1008)"
            ]
          },
          "execution_count": 40,
          "metadata": {},
          "output_type": "execute_result"
        }
      ],
      "source": [
        "X = df_encoded.drop(columns=['Category_Encoded'])\n",
        "X.head()\n",
        "X.shape"
      ]
    },
    {
      "cell_type": "code",
      "execution_count": 41,
      "metadata": {},
      "outputs": [
        {
          "data": {
            "text/plain": [
              "Index(['Percentage_10th', 'Percentage_12th', 'Skills_Count', 'Academic_Score',\n",
              "       'Performance_Gap', 'Course_Type_Encoded', 'Branch_Encoded',\n",
              "       'Course Type_Encoded', 'ab', 'abatement',\n",
              "       ...\n",
              "       'wellness', 'wireless', 'work', 'workflow', 'workload', 'workloads',\n",
              "       'world', 'write', 'writing', 'xml'],\n",
              "      dtype='object', length=1008)"
            ]
          },
          "execution_count": 41,
          "metadata": {},
          "output_type": "execute_result"
        }
      ],
      "source": [
        "X.columns"
      ]
    },
    {
      "cell_type": "code",
      "execution_count": 42,
      "metadata": {},
      "outputs": [
        {
          "data": {
            "text/plain": [
              "(2417,)"
            ]
          },
          "execution_count": 42,
          "metadata": {},
          "output_type": "execute_result"
        }
      ],
      "source": [
        "y = df_encoded['Category_Encoded']\n",
        "y.head()\n",
        "y.shape"
      ]
    },
    {
      "cell_type": "markdown",
      "metadata": {},
      "source": [
        "#### Feature importance extracter"
      ]
    },
    {
      "cell_type": "markdown",
      "metadata": {},
      "source": [
        "#### 1. Random Forest Selector"
      ]
    },
    {
      "cell_type": "code",
      "execution_count": 43,
      "metadata": {},
      "outputs": [
        {
          "data": {
            "text/html": [
              "<div>\n",
              "<style scoped>\n",
              "    .dataframe tbody tr th:only-of-type {\n",
              "        vertical-align: middle;\n",
              "    }\n",
              "\n",
              "    .dataframe tbody tr th {\n",
              "        vertical-align: top;\n",
              "    }\n",
              "\n",
              "    .dataframe thead th {\n",
              "        text-align: right;\n",
              "    }\n",
              "</style>\n",
              "<table border=\"1\" class=\"dataframe\">\n",
              "  <thead>\n",
              "    <tr style=\"text-align: right;\">\n",
              "      <th></th>\n",
              "      <th>Feature</th>\n",
              "      <th>Importance</th>\n",
              "    </tr>\n",
              "  </thead>\n",
              "  <tbody>\n",
              "    <tr>\n",
              "      <th>237</th>\n",
              "      <td>data</td>\n",
              "      <td>0.087028</td>\n",
              "    </tr>\n",
              "    <tr>\n",
              "      <th>2</th>\n",
              "      <td>Skills_Count</td>\n",
              "      <td>0.036131</td>\n",
              "    </tr>\n",
              "    <tr>\n",
              "      <th>997</th>\n",
              "      <td>web</td>\n",
              "      <td>0.035045</td>\n",
              "    </tr>\n",
              "    <tr>\n",
              "      <th>502</th>\n",
              "      <td>learning</td>\n",
              "      <td>0.025483</td>\n",
              "    </tr>\n",
              "    <tr>\n",
              "      <th>6</th>\n",
              "      <td>Branch_Encoded</td>\n",
              "      <td>0.025464</td>\n",
              "    </tr>\n",
              "    <tr>\n",
              "      <th>539</th>\n",
              "      <td>management</td>\n",
              "      <td>0.020263</td>\n",
              "    </tr>\n",
              "    <tr>\n",
              "      <th>987</th>\n",
              "      <td>visualization</td>\n",
              "      <td>0.018979</td>\n",
              "    </tr>\n",
              "    <tr>\n",
              "      <th>286</th>\n",
              "      <td>development</td>\n",
              "      <td>0.017723</td>\n",
              "    </tr>\n",
              "    <tr>\n",
              "      <th>170</th>\n",
              "      <td>cloud</td>\n",
              "      <td>0.016178</td>\n",
              "    </tr>\n",
              "    <tr>\n",
              "      <th>38</th>\n",
              "      <td>analysis</td>\n",
              "      <td>0.016049</td>\n",
              "    </tr>\n",
              "  </tbody>\n",
              "</table>\n",
              "</div>"
            ],
            "text/plain": [
              "            Feature  Importance\n",
              "237            data    0.087028\n",
              "2      Skills_Count    0.036131\n",
              "997             web    0.035045\n",
              "502        learning    0.025483\n",
              "6    Branch_Encoded    0.025464\n",
              "539      management    0.020263\n",
              "987   visualization    0.018979\n",
              "286     development    0.017723\n",
              "170           cloud    0.016178\n",
              "38         analysis    0.016049"
            ]
          },
          "execution_count": 43,
          "metadata": {},
          "output_type": "execute_result"
        }
      ],
      "source": [
        "rf_selector = RandomForestClassifier(n_estimators=100, random_state=42)\n",
        "rf_selector.fit(X, y)\n",
        "top_rf = pd.DataFrame({\n",
        "'Feature': X.columns,\n",
        "'Importance': rf_selector.feature_importances_\n",
        "})\n",
        "\n",
        "top_rf = top_rf.sort_values(by='Importance', ascending=False).head(10)\n",
        "top_rf"
      ]
    },
    {
      "cell_type": "markdown",
      "metadata": {},
      "source": [
        "#### 2. Mutual Info Classifier"
      ]
    },
    {
      "cell_type": "code",
      "execution_count": 44,
      "metadata": {},
      "outputs": [
        {
          "data": {
            "text/html": [
              "<div>\n",
              "<style scoped>\n",
              "    .dataframe tbody tr th:only-of-type {\n",
              "        vertical-align: middle;\n",
              "    }\n",
              "\n",
              "    .dataframe tbody tr th {\n",
              "        vertical-align: top;\n",
              "    }\n",
              "\n",
              "    .dataframe thead th {\n",
              "        text-align: right;\n",
              "    }\n",
              "</style>\n",
              "<table border=\"1\" class=\"dataframe\">\n",
              "  <thead>\n",
              "    <tr style=\"text-align: right;\">\n",
              "      <th></th>\n",
              "      <th>Feature</th>\n",
              "      <th>MI_Score</th>\n",
              "    </tr>\n",
              "  </thead>\n",
              "  <tbody>\n",
              "    <tr>\n",
              "      <th>237</th>\n",
              "      <td>data</td>\n",
              "      <td>0.465436</td>\n",
              "    </tr>\n",
              "    <tr>\n",
              "      <th>709</th>\n",
              "      <td>programming</td>\n",
              "      <td>0.180128</td>\n",
              "    </tr>\n",
              "    <tr>\n",
              "      <th>987</th>\n",
              "      <td>visualization</td>\n",
              "      <td>0.160299</td>\n",
              "    </tr>\n",
              "    <tr>\n",
              "      <th>502</th>\n",
              "      <td>learning</td>\n",
              "      <td>0.157923</td>\n",
              "    </tr>\n",
              "    <tr>\n",
              "      <th>2</th>\n",
              "      <td>Skills_Count</td>\n",
              "      <td>0.149457</td>\n",
              "    </tr>\n",
              "    <tr>\n",
              "      <th>245</th>\n",
              "      <td>dataviz</td>\n",
              "      <td>0.147755</td>\n",
              "    </tr>\n",
              "    <tr>\n",
              "      <th>38</th>\n",
              "      <td>analysis</td>\n",
              "      <td>0.138262</td>\n",
              "    </tr>\n",
              "    <tr>\n",
              "      <th>539</th>\n",
              "      <td>management</td>\n",
              "      <td>0.126714</td>\n",
              "    </tr>\n",
              "    <tr>\n",
              "      <th>170</th>\n",
              "      <td>cloud</td>\n",
              "      <td>0.126579</td>\n",
              "    </tr>\n",
              "    <tr>\n",
              "      <th>997</th>\n",
              "      <td>web</td>\n",
              "      <td>0.125399</td>\n",
              "    </tr>\n",
              "  </tbody>\n",
              "</table>\n",
              "</div>"
            ],
            "text/plain": [
              "           Feature  MI_Score\n",
              "237           data  0.465436\n",
              "709    programming  0.180128\n",
              "987  visualization  0.160299\n",
              "502       learning  0.157923\n",
              "2     Skills_Count  0.149457\n",
              "245        dataviz  0.147755\n",
              "38        analysis  0.138262\n",
              "539     management  0.126714\n",
              "170          cloud  0.126579\n",
              "997            web  0.125399"
            ]
          },
          "execution_count": 44,
          "metadata": {},
          "output_type": "execute_result"
        }
      ],
      "source": [
        "mi_scores = mutual_info_classif(X, y, random_state=42)\n",
        "feature_importance_mi = pd.DataFrame({\n",
        "    'Feature': X.columns,\n",
        "    'MI_Score': mi_scores\n",
        "})\n",
        "\n",
        "feature_importance_mi = feature_importance_mi.sort_values(by='MI_Score', ascending=False).head(10)\n",
        "feature_importance_mi"
      ]
    },
    {
      "cell_type": "code",
      "execution_count": 45,
      "metadata": {},
      "outputs": [
        {
          "data": {
            "image/png": "[encoded data removed]",
            "text/plain": [
              "<Figure size 1200x600 with 2 Axes>"
            ]
          },
          "metadata": {},
          "output_type": "display_data"
        }
      ],
      "source": [
        "plt.figure(figsize=(12, 6))\n",
        "\n",
        "plt.subplot(1, 2, 1)\n",
        "sns.barplot(x='Importance', y='Feature', data=top_rf)\n",
        "plt.title('Random Forest Feature Importance')\n",
        "\n",
        "plt.subplot(1, 2, 2)\n",
        "sns.barplot(x='MI_Score', y='Feature', data=feature_importance_mi)\n",
        "plt.title('Mutual Information Feature Importance')\n",
        "\n",
        "plt.tight_layout()\n",
        "plt.show()"
      ]
    },
    {
      "cell_type": "markdown",
      "metadata": {},
      "source": [
        "#### Combining the best features from both the methodologies"
      ]
    },
    {
      "cell_type": "code",
      "execution_count": 46,
      "metadata": {},
      "outputs": [],
      "source": [
        "from sklearn.preprocessing import MinMaxScaler\n",
        "\n",
        "scaler = MinMaxScaler()\n",
        "\n",
        "top_rf['Importance_Norm'] = scaler.fit_transform(top_rf[['Importance']])\n",
        "feature_importance_mi['MI_Score_Norm'] = scaler.fit_transform(feature_importance_mi[['MI_Score']])\n",
        "\n",
        "combined_features = pd.merge(top_rf, feature_importance_mi, on='Feature', how='inner')\n",
        "\n",
        "combined_features['Combined_Score'] = (combined_features['Importance_Norm'] + combined_features['MI_Score_Norm']) / 2\n",
        "\n",
        "combined_features = combined_features.sort_values(by='Combined_Score', ascending=False)\n"
      ]
    },
    {
      "cell_type": "code",
      "execution_count": 47,
      "metadata": {},
      "outputs": [
        {
          "data": {
            "image/png": "[encoded data removed]",
            "text/plain": [
              "<Figure size 1000x600 with 1 Axes>"
            ]
          },
          "metadata": {},
          "output_type": "display_data"
        }
      ],
      "source": [
        "\n",
        "plt.figure(figsize=(10, 6))\n",
        "sns.barplot(x='Combined_Score', y='Feature', data=combined_features, palette='viridis')\n",
        "\n",
        "plt.title('Combined Feature Importance (Random Forest + Mutual Information)', fontsize=16)\n",
        "plt.xlabel('Combined Importance Score', fontsize=12)\n",
        "plt.ylabel('Feature', fontsize=12)\n",
        "\n",
        "plt.tight_layout()\n",
        "plt.show()"
      ]
    },
    {
      "cell_type": "markdown",
      "metadata": {},
      "source": [
        "#### Dimensionality Redution using PCA and Best features selection"
      ]
    },
    {
      "cell_type": "code",
      "execution_count": 48,
      "metadata": {},
      "outputs": [
        {
          "name": "stdout",
          "output_type": "stream",
          "text": [
            "PCA Applied: Number of Components = 3\n"
          ]
        }
      ],
      "source": [
        "from sklearn.decomposition import PCA\n",
        "from sklearn.feature_selection import SelectKBest, f_classif\n",
        "\n",
        "pca = PCA(n_components=0.95)  # Retain 95% variance\n",
        "X_pca = pca.fit_transform(X)\n",
        "\n",
        "print(\"PCA Applied: Number of Components =\", pca.n_components_)"
      ]
    },
    {
      "cell_type": "code",
      "execution_count": 49,
      "metadata": {},
      "outputs": [
        {
          "name": "stdout",
          "output_type": "stream",
          "text": [
            "Selected PCA Components: [0 1 2]\n"
          ]
        }
      ],
      "source": [
        "selector = SelectKBest(score_func=f_classif, k=10)\n",
        "X_selected = selector.fit_transform(X_pca, y)\n",
        "\n",
        "selected_component_indices = selector.get_support(indices=True)\n",
        "print(\"Selected PCA Components:\", selected_component_indices)"
      ]
    },
    {
      "cell_type": "markdown",
      "metadata": {},
      "source": [
        "#### Save PCA vectorizer"
      ]
    },
    {
      "cell_type": "code",
      "execution_count": 50,
      "metadata": {},
      "outputs": [],
      "source": [
        "with open('../Models/pca_vectorizer.pkl', 'wb') as f:\n",
        "    joblib.dump(pca, f)"
      ]
    },
    {
      "cell_type": "markdown",
      "metadata": {},
      "source": [
        "#### Saving the data entries post PCA"
      ]
    },
    {
      "cell_type": "code",
      "execution_count": 51,
      "metadata": {},
      "outputs": [],
      "source": [
        "X_pca_df = pd.DataFrame(X_selected, columns=['PC1', 'PC2', 'PC3'])\n",
        "\n",
        "X_pca_df.to_csv('../Data/X_PCA.csv', index=False)\n",
        "\n",
        "y = pd.DataFrame(y)\n",
        "y.columns = ['Category_Encoded']\n",
        "y.to_csv('../Data/y.csv', index=False)"
      ]
    },
    {
      "cell_type": "code",
      "execution_count": 52,
      "metadata": {},
      "outputs": [],
      "source": [
        "X_df = pd.DataFrame(X_selected)\n",
        "\n",
        "combined = X_df.copy()\n",
        "combined['Category_Encoded'] = y.iloc[:, 0]\n",
        "\n",
        "filtered = combined.groupby('Category_Encoded').filter(lambda x: len(x) > 200)\n",
        "\n",
        "X_selected = filtered.drop(columns='Category_Encoded').values\n",
        "y = filtered['Category_Encoded'].values "
      ]
    },
    {
      "cell_type": "markdown",
      "metadata": {},
      "source": [
        "#### Train and Test Split"
      ]
    },
    {
      "cell_type": "code",
      "execution_count": 54,
      "metadata": {},
      "outputs": [],
      "source": [
        "X_train, X_test, y_train, y_test = train_test_split(X_selected, y, test_size=0.15, random_state=42, stratify=y)"
      ]
    },
    {
      "cell_type": "markdown",
      "metadata": {},
      "source": [
        "#### Class balancing using SMOTE"
      ]
    },
    {
      "cell_type": "code",
      "execution_count": 55,
      "metadata": {},
      "outputs": [],
      "source": [
        "from imblearn.over_sampling import SMOTE\n",
        "smote = SMOTE(sampling_strategy='auto', random_state=42, k_neighbors=5)\n",
        "X_train, y_train = smote.fit_resample(X_train, y_train)"
      ]
    },
    {
      "cell_type": "code",
      "execution_count": 56,
      "metadata": {},
      "outputs": [],
      "source": [
        "y_test = np.array(y_test)"
      ]
    },
    {
      "cell_type": "markdown",
      "metadata": {},
      "source": [
        "#### Saving the data split entries"
      ]
    },
    {
      "cell_type": "code",
      "execution_count": 57,
      "metadata": {},
      "outputs": [],
      "source": [
        "X_train_df = pd.DataFrame(X_train)\n",
        "X_test_df = pd.DataFrame(X_test)\n",
        "y_train_df = pd.DataFrame(y_train)\n",
        "y_test_df = pd.DataFrame(y_test)\n",
        "X_train_df.to_csv('../Data/X_train.csv', index=False)\n",
        "X_test_df.to_csv('../Data/X_test.csv', index=False)\n",
        "y_train_df.to_csv('../Data/y_train.csv', index=False)\n",
        "y_test_df.to_csv('../Data/y_test.csv', index=False)"
      ]
    },
    {
      "cell_type": "markdown",
      "metadata": {},
      "source": [
        "#### Models declaration"
      ]
    },
    {
      "cell_type": "code",
      "execution_count": 58,
      "metadata": {},
      "outputs": [],
      "source": [
        "models = {\n",
        "    'Logistic Regression': LogisticRegression(max_iter=2000, random_state=42),\n",
        "    'Decision Tree': DecisionTreeClassifier(random_state=42),\n",
        "    'Random Forest': RandomForestClassifier(n_estimators=100, random_state=42),\n",
        "    'Support Vector Machine': SVC(probability=True, kernel='rbf', random_state=42)\n",
        "    }"
      ]
    },
    {
      "cell_type": "markdown",
      "metadata": {},
      "source": [
        "#### Model training and Evaluation"
      ]
    },
    {
      "cell_type": "code",
      "execution_count": 59,
      "metadata": {},
      "outputs": [],
      "source": [
        "from sklearn.metrics import (\n",
        "    accuracy_score,\n",
        "    precision_score,\n",
        "    recall_score,\n",
        "    f1_score,\n",
        "    roc_auc_score,\n",
        "    confusion_matrix\n",
        ")\n",
        "from sklearn.model_selection import cross_val_score\n",
        "from sklearn.preprocessing import label_binarize\n",
        "import numpy as np\n",
        "import matplotlib.pyplot as plt\n",
        "import seaborn as sns\n",
        "\n",
        "def evaluate_model(model, X_train, X_test, y_train, y_test, plot_cm=False):\n",
        "    # Train the model\n",
        "    model.fit(X_train, y_train)\n",
        "\n",
        "    # Predictions\n",
        "    y_pred = model.predict(X_test)\n",
        "    y_pred_proba = model.predict_proba(X_test)\n",
        "\n",
        "    # Cross-validation (5-fold)\n",
        "    cv_scores = cross_val_score(model, X_train, y_train, cv=5)\n",
        "\n",
        "    # Basic classification metrics\n",
        "    metrics = {\n",
        "        'accuracy': accuracy_score(y_test, y_pred),\n",
        "        'precision': precision_score(y_test, y_pred, average='weighted', zero_division=0),\n",
        "        'recall': recall_score(y_test, y_pred, average='weighted', zero_division=0),\n",
        "        'f1_score': f1_score(y_test, y_pred, average='weighted', zero_division=0),\n",
        "        'cv_accuracy': np.mean(cv_scores)\n",
        "    }\n",
        "\n",
        "    # Handle multi-class ROC-AUC\n",
        "    y_test_array = np.array(y_test)\n",
        "    if y_test_array.ndim == 1:\n",
        "        classes = np.unique(np.concatenate([y_test_array, model.classes_]))\n",
        "        y_test_bin = label_binarize(y_test_array, classes=classes)\n",
        "    else:\n",
        "        y_test_bin = y_test_array\n",
        "\n",
        "    # Compute average ROC-AUC\n",
        "    metrics['roc_auc'] = roc_auc_score(\n",
        "        y_test_bin,\n",
        "        y_pred_proba,\n",
        "        multi_class='ovr',\n",
        "        average='macro'\n",
        "    )\n",
        "\n",
        "    # Plot confusion matrix if requested\n",
        "    if plot_cm:\n",
        "        cm = confusion_matrix(y_test, y_pred)\n",
        "        plt.figure(figsize=(6, 4))\n",
        "        sns.heatmap(cm, annot=True, fmt=\"d\", cmap=\"Blues\", cbar=False)\n",
        "        plt.xlabel('Predicted')\n",
        "        plt.ylabel('Actual')\n",
        "        plt.title(f'Confusion Matrix: {type(model).__name__}')\n",
        "        plt.tight_layout()\n",
        "        plt.show()\n",
        "\n",
        "    return metrics"
      ]
    },
    {
      "cell_type": "code",
      "execution_count": 60,
      "metadata": {},
      "outputs": [],
      "source": [
        "results = {}\n",
        "for model_name, model in models.items():\n",
        "    results[model_name] = evaluate_model(model, X_train, X_test, y_train, y_test)"
      ]
    },
    {
      "cell_type": "code",
      "execution_count": 61,
      "metadata": {},
      "outputs": [],
      "source": [
        "best_model_name = max(results, key=lambda m: results[m]['f1_score'])\n",
        "best_model = models[best_model_name]"
      ]
    },
    {
      "cell_type": "code",
      "execution_count": null,
      "metadata": {},
      "outputs": [
        {
          "name": "stdout",
          "output_type": "stream",
          "text": [
            "                    Model  accuracy  precision    recall  f1_score  \\\n",
            "0     Logistic Regression  0.407080   0.824193  0.407080  0.526678   \n",
            "1           Decision Tree  0.942478   0.943671  0.942478  0.943057   \n",
            "2           Random Forest  0.929204   0.931160  0.929204  0.930033   \n",
            "3  Support Vector Machine  0.564159   0.859689  0.564159  0.665331   \n",
            "\n",
            "   cv_accuracy   roc_auc  \n",
            "0     0.534322  0.807080  \n",
            "1     0.901247  0.849831  \n",
            "2     0.916388  0.904963  \n",
            "3     0.652927  0.816173  \n"
          ]
        }
      ],
      "source": [
        "comparison_df = pd.DataFrame(results).T.reset_index().rename(columns={'index': 'Model'})\n",
        "print(comparison_df)"
      ]
    },
    {
      "cell_type": "markdown",
      "metadata": {},
      "source": [
        "#### Confusion Matrix"
      ]
    },
    {
      "cell_type": "code",
      "execution_count": null,
      "metadata": {},
      "outputs": [
        {
          "data": {
            "image/png": "[encoded data removed]",
            "text/plain": [
              "<Figure size 800x600 with 1 Axes>"
            ]
          },
          "metadata": {},
          "output_type": "display_data"
        }
      ],
      "source": [
        "cm = confusion_matrix(y_test, y_pred)\n",
        "plt.figure(figsize=(8, 6))\n",
        "sns.heatmap(cm, annot=True, fmt='d', cmap='Blues', cbar=False)\n",
        "plt.title(f'Confusion Matrix - {best_model_name}')\n",
        "plt.xlabel('Predicted')\n",
        "plt.ylabel('True')\n",
        "plt.show()"
      ]
    },
    {
      "cell_type": "markdown",
      "metadata": {},
      "source": [
        "#### ROC Curve and AUC"
      ]
    },
    {
      "cell_type": "code",
      "execution_count": null,
      "metadata": {},
      "outputs": [
        {
          "name": "stdout",
          "output_type": "stream",
          "text": [
            "Class 0 - AUC: 0.97\n",
            "Class 1 - AUC: 0.72\n",
            "Class 2 - AUC: 0.75\n",
            "Class 3 - AUC: 0.96\n"
          ]
        },
        {
          "data": {
            "image/png": "[encoded data removed]",
            "text/plain": [
              "<Figure size 800x600 with 1 Axes>"
            ]
          },
          "metadata": {},
          "output_type": "display_data"
        }
      ],
      "source": [
        "from sklearn.metrics import roc_curve, roc_auc_score\n",
        "import matplotlib.pyplot as plt\n",
        "from sklearn.preprocessing import OneHotEncoder\n",
        "\n",
        "encoder = OneHotEncoder(sparse_output=False)\n",
        "y_test_encoded = encoder.fit_transform(y_test)\n",
        "\n",
        "y_pred_proba = best_model.predict_proba(X_test)\n",
        "\n",
        "num_classes = y_test_encoded.shape[1]\n",
        "\n",
        "plt.figure(figsize=(8, 6))\n",
        "for i in range(num_classes):\n",
        "    fpr, tpr, _ = roc_curve(y_test_encoded[:, i], y_pred_proba[:, i])\n",
        "    auc = roc_auc_score(y_test_encoded[:, i], y_pred_proba[:, i])\n",
        "    print(f'Class {i} - AUC: {auc:.2f}')\n",
        "    plt.plot(fpr, tpr, label=f'Class {i} (AUC = {auc:.2f})')\n",
        "\n",
        "plt.title(f'ROC Curve - {best_model_name}')\n",
        "plt.xlabel('False Positive Rate')\n",
        "plt.ylabel('True Positive Rate')\n",
        "plt.legend(loc='best')\n",
        "plt.show()\n"
      ]
    },
    {
      "cell_type": "code",
      "execution_count": 63,
      "metadata": {},
      "outputs": [
        {
          "data": {
            "text/plain": [
              "['../Models/best_model.pkl']"
            ]
          },
          "execution_count": 63,
          "metadata": {},
          "output_type": "execute_result"
        }
      ],
      "source": [
        "joblib.dump(best_model, '../Models/best_model.pkl')"
      ]
    },
    {
      "cell_type": "code",
      "execution_count": 64,
      "metadata": {},
      "outputs": [],
      "source": [
        "sc_data = pd.read_csv('../Data/final_student_course.csv')"
      ]
    },
    {
      "cell_type": "code",
      "execution_count": 65,
      "metadata": {},
      "outputs": [],
      "source": [
        "category_title = sc_data['Category'].value_counts().nlargest(4).index"
      ]
    },
    {
      "cell_type": "code",
      "execution_count": 66,
      "metadata": {},
      "outputs": [],
      "source": [
        "job_data = pd.read_csv('../Data/final_job_data.csv')"
      ]
    },
    {
      "cell_type": "code",
      "execution_count": 67,
      "metadata": {},
      "outputs": [],
      "source": [
        "job_title = job_data['Job Title'].unique()"
      ]
    },
    {
      "cell_type": "markdown",
      "metadata": {},
      "source": [
        "#### Using Cosine similarity and TFIDF to match similar jobs"
      ]
    },
    {
      "cell_type": "code",
      "execution_count": 68,
      "metadata": {},
      "outputs": [
        {
          "name": "stdout",
          "output_type": "stream",
          "text": [
            "Top job matches for 'Data Science': Data Science Engineer, Data Science Manager, Data Analyst, Data Engineer\n",
            "Top job matches for 'Computer Science': Data Science Engineer, Data Science Manager, Software Engineer, Data Engineer\n",
            "Top job matches for 'Business': Business Analyst, Business Consultant, Business Intelligence Analyst, Business System Analyst\n",
            "Top job matches for 'Information Technology': Software Engineer, Data Engineer, Business Analyst, Developer\n"
          ]
        }
      ],
      "source": [
        "from sklearn.feature_extraction.text import TfidfVectorizer\n",
        "from sklearn.metrics.pairwise import cosine_similarity\n",
        "import numpy as np\n",
        "import pandas as pd\n",
        "\n",
        "# Combine both lists into one for vectorization\n",
        "all_text = np.concatenate((category_title, job_title))\n",
        "\n",
        "# Use TF-IDF vectorizer to convert text into feature vectors\n",
        "vectorizer = TfidfVectorizer()\n",
        "tfidf_matrix = vectorizer.fit_transform(all_text)\n",
        "\n",
        "# Compute cosine similarity between category_title and job titles\n",
        "similarity_matrix = cosine_similarity(tfidf_matrix[:len(category_title)], tfidf_matrix[len(category_title):])\n",
        "\n",
        "# Convert to DataFrame for better visualization\n",
        "similarity_df = pd.DataFrame(similarity_matrix, index=category_title, columns=job_title)\n",
        "\n",
        "# Find top matches for each category\n",
        "top_matches = {}\n",
        "for category in category_title:\n",
        "    top_jobs = similarity_df.loc[category].nlargest(4)  # Get top 4 matching jobs\n",
        "    top_matches[category] = list(top_jobs.index)\n",
        "\n",
        "# store the value in a dictionary\n",
        "category_job_mapping = {}\n",
        "for category, jobs in top_matches.items():\n",
        "    category_job_mapping[category] = jobs\n",
        "    print(f\"Top job matches for '{category}': {', '.join(jobs)}\")\n"
      ]
    },
    {
      "cell_type": "code",
      "execution_count": 69,
      "metadata": {},
      "outputs": [
        {
          "data": {
            "text/plain": [
              "['../Models/job_titles.pkl']"
            ]
          },
          "execution_count": 69,
          "metadata": {},
          "output_type": "execute_result"
        }
      ],
      "source": [
        "joblib.dump(vectorizer, '../Models/job_tfidf_vectorizer.pkl')\n",
        "\n",
        "job_tfidf_matrix = tfidf_matrix[len(category_title):]\n",
        "joblib.dump(job_tfidf_matrix, '../Models/job_tfidf_matrix.pkl')\n",
        "\n",
        "joblib.dump(job_title, '../Models/job_titles.pkl')\n"
      ]
    },
    {
      "cell_type": "markdown",
      "metadata": {},
      "source": [
        "### Job Recommendation Usage"
      ]
    },
    {
      "cell_type": "code",
      "execution_count": 70,
      "metadata": {},
      "outputs": [],
      "source": [
        "import joblib\n",
        "import numpy as np\n",
        "from sklearn.metrics.pairwise import cosine_similarity\n",
        "\n",
        "vectorizer = joblib.load('../Models/job_tfidf_vectorizer.pkl')\n",
        "job_tfidf_matrix = joblib.load('../Models/job_tfidf_matrix.pkl')\n",
        "job_titles = joblib.load('../Models/job_titles.pkl')\n"
      ]
    },
    {
      "cell_type": "code",
      "execution_count": 71,
      "metadata": {},
      "outputs": [],
      "source": [
        "def predict_top_jobs(new_category_title, top_k=4):\n",
        "    category_vector = vectorizer.transform([new_category_title])\n",
        "    \n",
        "    similarities = cosine_similarity(category_vector, job_tfidf_matrix).flatten()\n",
        "    \n",
        "    top_indices = np.argsort(similarities)[-top_k:][::-1]\n",
        "    top_jobs = [job_titles[i] for i in top_indices]\n",
        "    \n",
        "    return top_jobs\n"
      ]
    },
    {
      "cell_type": "code",
      "execution_count": 72,
      "metadata": {},
      "outputs": [
        {
          "name": "stdout",
          "output_type": "stream",
          "text": [
            "Top job matches for 'Data Science': Data Science Engineer, Data Science Manager, Data Analyst, Data Engineer\n"
          ]
        }
      ],
      "source": [
        "new_category = \"Data Science\"\n",
        "top_jobs = predict_top_jobs(new_category)\n",
        "\n",
        "print(f\"Top job matches for '{new_category}': {', '.join(top_jobs)}\")"
      ]
    }
  ],
  "metadata": {
    "colab": {
      "provenance": []
    },
    "kernelspec": {
      "display_name": "Python 3",
      "name": "python3"
    },
    "language_info": {
      "codemirror_mode": {
        "name": "ipython",
        "version": 3
      },
      "file_extension": ".py",
      "mimetype": "text/x-python",
      "name": "python",
      "nbconvert_exporter": "python",
      "pygments_lexer": "ipython3",
      "version": "3.12.4"
    }
  },
  "nbformat": 4,
  "nbformat_minor": 0
}
