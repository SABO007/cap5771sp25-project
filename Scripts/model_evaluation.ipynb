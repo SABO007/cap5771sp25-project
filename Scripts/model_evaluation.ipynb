{
 "cells": [
  {
   "cell_type": "markdown",
   "metadata": {},
   "source": [
    "### Importing libraries"
   ]
  },
  {
   "cell_type": "code",
   "execution_count": 29,
   "metadata": {},
   "outputs": [],
   "source": [
    "import pandas as pd\n",
    "import numpy as np\n",
    "import os\n",
    "from sklearn.preprocessing import LabelEncoder, OneHotEncoder\n",
    "import matplotlib.pyplot as plt\n",
    "import seaborn as sns\n",
    "import pandas as pd\n",
    "import numpy as np\n",
    "import matplotlib.pyplot as plt\n",
    "import seaborn as sns\n",
    "from sklearn.preprocessing import LabelEncoder, OneHotEncoder, StandardScaler\n",
    "from sklearn.model_selection import train_test_split, cross_val_score\n",
    "from sklearn.feature_selection import SelectKBest, chi2, mutual_info_classif\n",
    "from sklearn.linear_model import LogisticRegression\n",
    "from sklearn.tree import DecisionTreeClassifier\n",
    "from sklearn.ensemble import RandomForestClassifier\n",
    "from sklearn.svm import SVC\n",
    "from sklearn.metrics import accuracy_score, precision_score, recall_score, f1_score, confusion_matrix, classification_report, roc_curve, auc\n",
    "import warnings\n",
    "warnings.filterwarnings('ignore')"
   ]
  },
  {
   "cell_type": "markdown",
   "metadata": {},
   "source": [
    "### **1. Finalizing Model Evaluation**"
   ]
  },
  {
   "cell_type": "markdown",
   "metadata": {},
   "source": [
    "### Making sure that the best performing model is saved"
   ]
  },
  {
   "cell_type": "code",
   "execution_count": 30,
   "metadata": {},
   "outputs": [
    {
     "name": "stdout",
     "output_type": "stream",
     "text": [
      "Best model loaded successfully.\n"
     ]
    }
   ],
   "source": [
    "if os.path.exists('../Models/best_model.pkl'):\n",
    "    import joblib\n",
    "    best_model = joblib.load('../Models/best_model.pkl')\n",
    "\n",
    "print(\"Best model loaded successfully.\")"
   ]
  },
  {
   "cell_type": "markdown",
   "metadata": {},
   "source": [
    "### Model Analysis: Strengths & Weaknesses\n",
    "\n",
    "#### **Rank 1: Decision Tree**\n",
    "\n",
    "**Strengths:**\n",
    "  - Best overall accuracy (94.2%) and F1 score (94.3%), showing a strong balance of precision and recall.\n",
    "  - Simple to interpret and visualize\n",
    "  - Fast to train and performs well even without extensive hyperparameter tuning.\n",
    "\n",
    "**Weaknesses:**\n",
    "  - Slightly lower ROC-AUC (0.85) than Random Forest → might not separate classes as cleanly in probabilistic terms.\n",
    "  - Prone to overfitting, especially if not pruned.\n",
    "\n"
   ]
  },
  {
   "cell_type": "markdown",
   "metadata": {},
   "source": [
    "#### **Rank 2: Random Forest**\n",
    "\n",
    "**Strengths:**\n",
    "  - Highest ROC-AUC (0.90) → indicates excellent class separability.\n",
    "  - More robust to overfitting than Decision Trees due to ensembling.\n",
    "  - Consistently strong across all metrics — a very reliable all-rounder.\n",
    "\n",
    "**Weaknesses**:\n",
    "  - Slightly lower accuracy/F1 than Decision Tree in this specific dataset.\n",
    "  - Harder to interpret natively — use SHAP for model explainability.\n",
    "\n"
   ]
  },
  {
   "cell_type": "markdown",
   "metadata": {},
   "source": [
    "#### **Rank 3: Support Vector Machine (SVM)**\n",
    "**Strengths**:\n",
    "  - Surprisingly high precision (85.9%), meaning it makes fewer false positive errors.\n",
    "  - Could still be useful if recall is not a major concern.\n",
    "**Weaknesses**:\n",
    "  - Very low recall (56%) and F1 score (66%), suggesting it's not capturing most of the correct cases.\n",
    "  - Poor generalization (low cross-validation accuracy).\n",
    "  - Sensitive to feature scaling and class imbalance."
   ]
  },
  {
   "cell_type": "markdown",
   "metadata": {},
   "source": [
    "\n",
    "#### **Rank 4: Logistic Regression**\n",
    "**Strengths**:\n",
    "  - High precision (82.4%) → good when false positives are costly.\n",
    "  - Simple, fast, and interpretable model.\n",
    "**Weaknesses**:\n",
    "  - Lowest overall accuracy (40.7%), recall, and F1 score.\n",
    "  - Performs poorly on complex, nonlinear patterns — not suitable for this dataset without major feature engineering."
   ]
  },
  {
   "cell_type": "markdown",
   "metadata": {},
   "source": [
    "#### **Final Model Choice: Decision Tree**\n",
    "\n",
    "Chosen due to:\n",
    "- Best overall classification performance (F1 score, accuracy)\n",
    "- Easy interpretability\n",
    "- Minimal drop in ROC-AUC compared to Random Forest"
   ]
  },
  {
   "cell_type": "markdown",
   "metadata": {},
   "source": [
    "#### Check in **Modelling.ipynb** \n",
    "You will find:\n",
    "- Comparison between all the models on the basis of accuracy, precision, recall, f1-score, cv-accuracy, and roc-auc\n",
    "- Confusion matrix for Decision Tree\n",
    "- ROC curve for Decision Tree"
   ]
  },
  {
   "cell_type": "markdown",
   "metadata": {},
   "source": [
    "### **2. Model Interpretation**"
   ]
  },
  {
   "cell_type": "markdown",
   "metadata": {},
   "source": [
    "#### Finding Feature Importance post PCA"
   ]
  },
  {
   "cell_type": "code",
   "execution_count": 31,
   "metadata": {},
   "outputs": [],
   "source": [
    "X_pca = pd.read_csv('../Data/x_pca.csv')\n",
    "y = pd.read_csv('../Data/y.csv')"
   ]
  },
  {
   "cell_type": "markdown",
   "metadata": {},
   "source": [
    "#### 1. Random Forest Selector"
   ]
  },
  {
   "cell_type": "code",
   "execution_count": 32,
   "metadata": {},
   "outputs": [
    {
     "data": {
      "text/html": [
       "<div>\n",
       "<style scoped>\n",
       "    .dataframe tbody tr th:only-of-type {\n",
       "        vertical-align: middle;\n",
       "    }\n",
       "\n",
       "    .dataframe tbody tr th {\n",
       "        vertical-align: top;\n",
       "    }\n",
       "\n",
       "    .dataframe thead th {\n",
       "        text-align: right;\n",
       "    }\n",
       "</style>\n",
       "<table border=\"1\" class=\"dataframe\">\n",
       "  <thead>\n",
       "    <tr style=\"text-align: right;\">\n",
       "      <th></th>\n",
       "      <th>Feature</th>\n",
       "      <th>Importance</th>\n",
       "    </tr>\n",
       "  </thead>\n",
       "  <tbody>\n",
       "    <tr>\n",
       "      <th>1</th>\n",
       "      <td>PC2</td>\n",
       "      <td>0.640928</td>\n",
       "    </tr>\n",
       "    <tr>\n",
       "      <th>2</th>\n",
       "      <td>PC3</td>\n",
       "      <td>0.192446</td>\n",
       "    </tr>\n",
       "    <tr>\n",
       "      <th>0</th>\n",
       "      <td>PC1</td>\n",
       "      <td>0.166626</td>\n",
       "    </tr>\n",
       "  </tbody>\n",
       "</table>\n",
       "</div>"
      ],
      "text/plain": [
       "  Feature  Importance\n",
       "1     PC2    0.640928\n",
       "2     PC3    0.192446\n",
       "0     PC1    0.166626"
      ]
     },
     "execution_count": 32,
     "metadata": {},
     "output_type": "execute_result"
    }
   ],
   "source": [
    "rf_selector = RandomForestClassifier(n_estimators=100, random_state=42)\n",
    "rf_selector.fit(X_pca, y)\n",
    "top_rf = pd.DataFrame({\n",
    "'Feature': X_pca.columns,\n",
    "'Importance': rf_selector.feature_importances_\n",
    "})\n",
    "\n",
    "top_rf = top_rf.sort_values(by='Importance', ascending=False).head(10)\n",
    "top_rf"
   ]
  },
  {
   "cell_type": "markdown",
   "metadata": {},
   "source": [
    "#### 2. Mutual Info Classifier"
   ]
  },
  {
   "cell_type": "code",
   "execution_count": 33,
   "metadata": {},
   "outputs": [
    {
     "data": {
      "text/html": [
       "<div>\n",
       "<style scoped>\n",
       "    .dataframe tbody tr th:only-of-type {\n",
       "        vertical-align: middle;\n",
       "    }\n",
       "\n",
       "    .dataframe tbody tr th {\n",
       "        vertical-align: top;\n",
       "    }\n",
       "\n",
       "    .dataframe thead th {\n",
       "        text-align: right;\n",
       "    }\n",
       "</style>\n",
       "<table border=\"1\" class=\"dataframe\">\n",
       "  <thead>\n",
       "    <tr style=\"text-align: right;\">\n",
       "      <th></th>\n",
       "      <th>Feature</th>\n",
       "      <th>MI_Score</th>\n",
       "    </tr>\n",
       "  </thead>\n",
       "  <tbody>\n",
       "    <tr>\n",
       "      <th>1</th>\n",
       "      <td>PC2</td>\n",
       "      <td>0.675247</td>\n",
       "    </tr>\n",
       "    <tr>\n",
       "      <th>2</th>\n",
       "      <td>PC3</td>\n",
       "      <td>0.503623</td>\n",
       "    </tr>\n",
       "    <tr>\n",
       "      <th>0</th>\n",
       "      <td>PC1</td>\n",
       "      <td>0.473949</td>\n",
       "    </tr>\n",
       "  </tbody>\n",
       "</table>\n",
       "</div>"
      ],
      "text/plain": [
       "  Feature  MI_Score\n",
       "1     PC2  0.675247\n",
       "2     PC3  0.503623\n",
       "0     PC1  0.473949"
      ]
     },
     "execution_count": 33,
     "metadata": {},
     "output_type": "execute_result"
    }
   ],
   "source": [
    "mi_scores = mutual_info_classif(X_pca, y, random_state=42)\n",
    "feature_importance_mi = pd.DataFrame({\n",
    "    'Feature': X_pca.columns,\n",
    "    'MI_Score': mi_scores\n",
    "})\n",
    "\n",
    "feature_importance_mi = feature_importance_mi.sort_values(by='MI_Score', ascending=False).head(10)\n",
    "feature_importance_mi"
   ]
  },
  {
   "cell_type": "code",
   "execution_count": 34,
   "metadata": {},
   "outputs": [
    {
     "data": {
      "image/png": "[encoded data removed]",
      "text/plain": [
       "<Figure size 1200x600 with 2 Axes>"
      ]
     },
     "metadata": {},
     "output_type": "display_data"
    }
   ],
   "source": [
    "plt.figure(figsize=(12, 6))\n",
    "\n",
    "plt.subplot(1, 2, 1)\n",
    "sns.barplot(x='Importance', y='Feature', data=top_rf)\n",
    "plt.title('Random Forest Feature Importance')\n",
    "\n",
    "plt.subplot(1, 2, 2)\n",
    "sns.barplot(x='MI_Score', y='Feature', data=feature_importance_mi)\n",
    "plt.title('Mutual Information Feature Importance')\n",
    "\n",
    "plt.tight_layout()\n",
    "plt.show()"
   ]
  },
  {
   "cell_type": "markdown",
   "metadata": {},
   "source": [
    "#### Combining the best features from both the methodologies"
   ]
  },
  {
   "cell_type": "code",
   "execution_count": 35,
   "metadata": {},
   "outputs": [],
   "source": [
    "from sklearn.preprocessing import MinMaxScaler\n",
    "\n",
    "scaler = MinMaxScaler()\n",
    "\n",
    "top_rf['Importance_Norm'] = scaler.fit_transform(top_rf[['Importance']])\n",
    "feature_importance_mi['MI_Score_Norm'] = scaler.fit_transform(feature_importance_mi[['MI_Score']])\n",
    "\n",
    "combined_features = pd.merge(top_rf, feature_importance_mi, on='Feature', how='inner')\n",
    "\n",
    "combined_features['Combined_Score'] = (combined_features['Importance_Norm'] + combined_features['MI_Score_Norm']) / 2\n",
    "\n",
    "combined_features = combined_features.sort_values(by='Combined_Score', ascending=False)\n"
   ]
  },
  {
   "cell_type": "code",
   "execution_count": 36,
   "metadata": {},
   "outputs": [
    {
     "data": {
      "image/png": "[encoded data removed]",
      "text/plain": [
       "<Figure size 1000x600 with 1 Axes>"
      ]
     },
     "metadata": {},
     "output_type": "display_data"
    }
   ],
   "source": [
    "\n",
    "plt.figure(figsize=(10, 6))\n",
    "sns.barplot(x='Combined_Score', y='Feature', data=combined_features, palette='viridis')\n",
    "\n",
    "plt.title('Combined Feature Importance (Random Forest + Mutual Information)', fontsize=16)\n",
    "plt.xlabel('Combined Importance Score', fontsize=12)\n",
    "plt.ylabel('Feature', fontsize=12)\n",
    "\n",
    "plt.tight_layout()\n",
    "plt.show()"
   ]
  },
  {
   "cell_type": "code",
   "execution_count": null,
   "metadata": {},
   "outputs": [],
   "source": []
  }
 ],
 "metadata": {
  "kernelspec": {
   "display_name": "Python 3",
   "language": "python",
   "name": "python3"
  },
  "language_info": {
   "codemirror_mode": {
    "name": "ipython",
    "version": 3
   },
   "file_extension": ".py",
   "mimetype": "text/x-python",
   "name": "python",
   "nbconvert_exporter": "python",
   "pygments_lexer": "ipython3",
   "version": "3.12.4"
  }
 },
 "nbformat": 4,
 "nbformat_minor": 2
}
